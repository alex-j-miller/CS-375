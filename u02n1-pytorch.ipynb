{
 "cells": [
  {
   "cell_type": "markdown",
   "id": "21c54f33",
   "metadata": {
    "papermill": {
     "duration": 0.014162,
     "end_time": "2024-01-26T16:44:14.962694",
     "exception": false,
     "start_time": "2024-01-26T16:44:14.948532",
     "status": "completed"
    },
    "tags": []
   },
   "source": [
    "## PyTorch Warmup"
   ]
  },
  {
   "cell_type": "markdown",
   "id": "e52bf2c5",
   "metadata": {
    "papermill": {
     "duration": 0.013392,
     "end_time": "2024-01-26T16:44:14.991196",
     "exception": false,
     "start_time": "2024-01-26T16:44:14.977804",
     "status": "completed"
    },
    "tags": []
   },
   "source": [
    "[PyTorch](https://pytorch.org/) is the open-source machine learning framework that we'll be using in this class. It has a wide range of functionality; for now we'll just get started with some of its very basic array-processing functionality."
   ]
  },
  {
   "cell_type": "code",
   "execution_count": 1,
   "id": "ff649774",
   "metadata": {
    "execution": {
     "iopub.execute_input": "2024-01-26T16:44:15.020537Z",
     "iopub.status.busy": "2024-01-26T16:44:15.019720Z",
     "iopub.status.idle": "2024-01-26T16:44:18.592211Z",
     "shell.execute_reply": "2024-01-26T16:44:18.591049Z"
    },
    "papermill": {
     "duration": 3.590515,
     "end_time": "2024-01-26T16:44:18.595312",
     "exception": false,
     "start_time": "2024-01-26T16:44:15.004797",
     "status": "completed"
    },
    "tags": []
   },
   "outputs": [],
   "source": [
    "import torch\n",
    "import torch.nn as nn\n",
    "import torch.nn.functional as F"
   ]
  },
  {
   "cell_type": "markdown",
   "id": "d0c44226",
   "metadata": {
    "papermill": {
     "duration": 0.013242,
     "end_time": "2024-01-26T16:44:18.622607",
     "exception": false,
     "start_time": "2024-01-26T16:44:18.609365",
     "status": "completed"
    },
    "tags": []
   },
   "source": [
    "### Dot Products\n",
    "\n",
    "The most common basic primitive in a neural network is a *linear* layer (you'll sometimes see it called a \"Dense\" layer). These are where almost all of the parameters go in a network. (Some architectures use a variant called a *convolutional* layer.) At its core, a linear layer does a bunch of *dot product*s between its *input* vector and its (learned) *weight* vectors.\n",
    "\n",
    "A few intuitions to understand what a dot product is:\n",
    "\n",
    "1. It measures *similarity*, in the sense of *alignment*. The following statements loosely capture it:\n",
    "    - \"How much does the input look like *this*?\"\n",
    "    - \"How big is the input in *this* direction?\"\n",
    "    - \"How aligned is the input with this direction?\"\n",
    "    - \"What's the cosine of the angle between the input vector and this vector?\"\n",
    "2. A bunch of dot products all together (like in a Linear layer) *rotates and stretches* the input space, like moving a camera around a scene.\n",
    "3. It's how a multiple linear regression computes its output: a weighted mixture of each part of its input.\n",
    "\n",
    "Recall that we can make a line by an expression like `y = w*x + b`. (Some of you may remember *mx+b* , but we'll use *w* for the *weight(s)* instead.)\n",
    "\n",
    "That's a multiplication followed by a sum. We can extend that to lots of *x*'s, each of which needs a corresponding *w*:\n",
    "\n",
    "`y = w1*x1 + w2*x2 + ... + wN*xN + b`\n",
    "\n",
    "For simplicity, let's start by ignoring the `b`ias.  So we're left with\n",
    "\n",
    "`y = w1*x1 + w2*x2 + ... + wN*xN`\n",
    "\n",
    "that is, multiply each number in `w` by its corresponding number in `x` and add up the results: `sum(w[i] * x[i] for i in range(N))`. Or, in mathematical notation: $\\sum_{i=1}^{N} w_i x_i.$\n",
    "\n",
    "The result is called a *dot product*, and is one of the fundamental operations in linear algebra. At this point you don't need to understand all the linear algebra part of this, we're just implementing a common calculation.\n",
    "\n",
    "Let's do that in pure Python, and then in PyTorch. To start, let's make a `w`eights and an `x`."
   ]
  },
  {
   "cell_type": "code",
   "execution_count": 2,
   "id": "629ababc",
   "metadata": {
    "execution": {
     "iopub.execute_input": "2024-01-26T16:44:18.652666Z",
     "iopub.status.busy": "2024-01-26T16:44:18.651687Z",
     "iopub.status.idle": "2024-01-26T16:44:18.754318Z",
     "shell.execute_reply": "2024-01-26T16:44:18.753125Z"
    },
    "papermill": {
     "duration": 0.120379,
     "end_time": "2024-01-26T16:44:18.756652",
     "exception": false,
     "start_time": "2024-01-26T16:44:18.636273",
     "status": "completed"
    },
    "tags": []
   },
   "outputs": [
    {
     "data": {
      "text/plain": [
       "tensor([ 2., -1.])"
      ]
     },
     "execution_count": 2,
     "metadata": {},
     "output_type": "execute_result"
    }
   ],
   "source": [
    "w = torch.tensor([2.0, -1.0])\n",
    "w"
   ]
  },
  {
   "cell_type": "code",
   "execution_count": 3,
   "id": "9cb10f6f",
   "metadata": {
    "execution": {
     "iopub.execute_input": "2024-01-26T16:44:18.787244Z",
     "iopub.status.busy": "2024-01-26T16:44:18.786803Z",
     "iopub.status.idle": "2024-01-26T16:44:18.795657Z",
     "shell.execute_reply": "2024-01-26T16:44:18.794444Z"
    },
    "papermill": {
     "duration": 0.027356,
     "end_time": "2024-01-26T16:44:18.797999",
     "exception": false,
     "start_time": "2024-01-26T16:44:18.770643",
     "status": "completed"
    },
    "tags": []
   },
   "outputs": [
    {
     "data": {
      "text/plain": [
       "tensor([ 1.5000, -3.0000])"
      ]
     },
     "execution_count": 3,
     "metadata": {},
     "output_type": "execute_result"
    }
   ],
   "source": [
    "x = torch.tensor([1.5, -3.0])\n",
    "x"
   ]
  },
  {
   "cell_type": "markdown",
   "id": "a20a949d",
   "metadata": {
    "papermill": {
     "duration": 0.013737,
     "end_time": "2024-01-26T16:44:18.825520",
     "exception": false,
     "start_time": "2024-01-26T16:44:18.811783",
     "status": "completed"
    },
    "tags": []
   },
   "source": [
    "The shapes of `w` and `x` must match."
   ]
  },
  {
   "cell_type": "code",
   "execution_count": 4,
   "id": "fad89ae7",
   "metadata": {
    "execution": {
     "iopub.execute_input": "2024-01-26T16:44:18.854745Z",
     "iopub.status.busy": "2024-01-26T16:44:18.854359Z",
     "iopub.status.idle": "2024-01-26T16:44:18.858800Z",
     "shell.execute_reply": "2024-01-26T16:44:18.857635Z"
    },
    "papermill": {
     "duration": 0.022083,
     "end_time": "2024-01-26T16:44:18.861176",
     "exception": false,
     "start_time": "2024-01-26T16:44:18.839093",
     "status": "completed"
    },
    "tags": []
   },
   "outputs": [],
   "source": [
    "N = len(w)\n",
    "assert N == len(x)"
   ]
  },
  {
   "cell_type": "markdown",
   "id": "adca796f",
   "metadata": {
    "papermill": {
     "duration": 0.013865,
     "end_time": "2024-01-26T16:44:18.888621",
     "exception": false,
     "start_time": "2024-01-26T16:44:18.874756",
     "status": "completed"
    },
    "tags": []
   },
   "source": [
    "#### `for` loop approach\n",
    "\n",
    "**Task**: *Write a function that uses a `for` loop* to compute the dot product of `w` and `x`. Name the function `dot_loop`. Check that you get `6.0` for the `w` and `x` provided in the template."
   ]
  },
  {
   "cell_type": "code",
   "execution_count": 5,
   "id": "485148e5",
   "metadata": {
    "execution": {
     "iopub.execute_input": "2024-01-26T16:44:18.917477Z",
     "iopub.status.busy": "2024-01-26T16:44:18.917047Z",
     "iopub.status.idle": "2024-01-26T16:44:18.930128Z",
     "shell.execute_reply": "2024-01-26T16:44:18.929305Z"
    },
    "papermill": {
     "duration": 0.02999,
     "end_time": "2024-01-26T16:44:18.932152",
     "exception": false,
     "start_time": "2024-01-26T16:44:18.902162",
     "status": "completed"
    },
    "tags": []
   },
   "outputs": [
    {
     "data": {
      "text/plain": [
       "tensor(6.)"
      ]
     },
     "execution_count": 5,
     "metadata": {},
     "output_type": "execute_result"
    }
   ],
   "source": [
    "def dot_loop(w, x):\n",
    "    c = 0\n",
    "    for i in range(len(w)):\n",
    "        c = c + w[i] * x[i]\n",
    "    return c # FIXME\n",
    "dot_loop(w, x)"
   ]
  },
  {
   "cell_type": "markdown",
   "id": "e8ddf4d1",
   "metadata": {
    "papermill": {
     "duration": 0.013417,
     "end_time": "2024-01-26T16:44:18.960203",
     "exception": false,
     "start_time": "2024-01-26T16:44:18.946786",
     "status": "completed"
    },
    "tags": []
   },
   "source": [
    "Here are some test cases that `dot_loop` should pass. You don't need to understand how this code works yet, but it would reward some study. (Note that, like most tests, if it passes you'll see no output when the cell runs.)"
   ]
  },
  {
   "cell_type": "code",
   "execution_count": 6,
   "id": "ee9a941c",
   "metadata": {
    "execution": {
     "iopub.execute_input": "2024-01-26T16:44:18.989960Z",
     "iopub.status.busy": "2024-01-26T16:44:18.989343Z",
     "iopub.status.idle": "2024-01-26T16:44:19.005503Z",
     "shell.execute_reply": "2024-01-26T16:44:19.004443Z"
    },
    "papermill": {
     "duration": 0.034006,
     "end_time": "2024-01-26T16:44:19.008092",
     "exception": false,
     "start_time": "2024-01-26T16:44:18.974086",
     "status": "completed"
    },
    "tags": []
   },
   "outputs": [],
   "source": [
    "test_cases = [\n",
    "    ([0.], [500.], 0.0),\n",
    "    ([1., 0.0], [50.0, .5], 50.0),\n",
    "    ([-1.0, 1.0], [-1.0, 1.0], 2.0)\n",
    "]\n",
    "def run_dot_tests(f):\n",
    "    assert all(\n",
    "        torch.isclose(\n",
    "            f(torch.tensor(w), torch.tensor(x)),\n",
    "            torch.tensor(prod))\n",
    "        for w, x, prod in test_cases)\n",
    "run_dot_tests(dot_loop)"
   ]
  },
  {
   "cell_type": "markdown",
   "id": "d3fba780",
   "metadata": {
    "papermill": {
     "duration": 0.013469,
     "end_time": "2024-01-26T16:44:19.035472",
     "exception": false,
     "start_time": "2024-01-26T16:44:19.022003",
     "status": "completed"
    },
    "tags": []
   },
   "source": [
    "#### Torch Elementwise Operations\n",
    "\n",
    "But that's a lot of typing for a concept that we're going to use very frequently. To shorten it (and make it run way faster too!), we'll start taking advantage of some of Torch's builtin functionality.\n",
    "\n",
    "First, we'll learn about *elementwise operations* (called *pointwise operations* in the [PyTorch docs](https://pytorch.org/docs/stable/torch.html#pointwise-ops)).\n",
    "\n",
    "If you try to `*` two Python lists together, you get a `TypeError` (how do you multiply lists??). But in PyTorch (and NumPy, which it's heavily based on), array operations happen *element-by-element* (sometimes called *elementwise*): to multiply two tensors that have the same shape, multiply each number in the first tensor with the corresponding number of the second tensor. The result is a new tensor of the same shape with all the elementwise products.\n",
    "\n",
    "**Task**: Predict what you'll get from running `w * x`. Then try it and compare with your prediction. (No need to write an explanation here.)"
   ]
  },
  {
   "cell_type": "code",
   "execution_count": 7,
   "id": "746216a0",
   "metadata": {
    "execution": {
     "iopub.execute_input": "2024-01-26T16:44:19.064958Z",
     "iopub.status.busy": "2024-01-26T16:44:19.064532Z",
     "iopub.status.idle": "2024-01-26T16:44:19.072037Z",
     "shell.execute_reply": "2024-01-26T16:44:19.070946Z"
    },
    "papermill": {
     "duration": 0.025038,
     "end_time": "2024-01-26T16:44:19.074328",
     "exception": false,
     "start_time": "2024-01-26T16:44:19.049290",
     "status": "completed"
    },
    "tags": []
   },
   "outputs": [
    {
     "data": {
      "text/plain": [
       "tensor([3., 3.])"
      ]
     },
     "execution_count": 7,
     "metadata": {},
     "output_type": "execute_result"
    }
   ],
   "source": [
    "# your code here\n",
    "w * x"
   ]
  },
  {
   "cell_type": "markdown",
   "id": "c487b281",
   "metadata": {
    "papermill": {
     "duration": 0.014328,
     "end_time": "2024-01-26T16:44:19.102757",
     "exception": false,
     "start_time": "2024-01-26T16:44:19.088429",
     "status": "completed"
    },
    "tags": []
   },
   "source": [
    "### Torch Reduction Ops\n",
    "\n",
    "Torch also provides [*reduction* methods](https://pytorch.org/docs/stable/torch.html#reduction-ops), so named because they *reduce* the number of elements in a Tensor.\n",
    "\n",
    "One really useful reduction op is `.sum`. (I also frequently use `.mean`, `.max`, and `.argmax`).\n",
    "\n",
    "**Task**: Predict the output of running `x.sum()` Then try it and compare with your prediction.\n",
    "\n",
    "> You can also write that as `torch.sum(w)`."
   ]
  },
  {
   "cell_type": "code",
   "execution_count": 8,
   "id": "af4c7dd2",
   "metadata": {
    "execution": {
     "iopub.execute_input": "2024-01-26T16:44:19.195841Z",
     "iopub.status.busy": "2024-01-26T16:44:19.195438Z",
     "iopub.status.idle": "2024-01-26T16:44:19.204463Z",
     "shell.execute_reply": "2024-01-26T16:44:19.203316Z"
    },
    "papermill": {
     "duration": 0.027381,
     "end_time": "2024-01-26T16:44:19.207111",
     "exception": false,
     "start_time": "2024-01-26T16:44:19.179730",
     "status": "completed"
    },
    "tags": []
   },
   "outputs": [
    {
     "data": {
      "text/plain": [
       "tensor(-1.5000)"
      ]
     },
     "execution_count": 8,
     "metadata": {},
     "output_type": "execute_result"
    }
   ],
   "source": [
    "# your code here\n",
    "x.sum()"
   ]
  },
  {
   "cell_type": "markdown",
   "id": "3956fc27",
   "metadata": {
    "papermill": {
     "duration": 0.013979,
     "end_time": "2024-01-26T16:44:19.235440",
     "exception": false,
     "start_time": "2024-01-26T16:44:19.221461",
     "status": "completed"
    },
    "tags": []
   },
   "source": [
    "### Building a dot product out of Torch ops\n",
    "\n",
    "Now **make a new version of `dot_loop`, called `dot_ops`**, that uses an elementwise op to multiply corresponding numbers and a reduction op to sum the result. Check that the result still passes the tests."
   ]
  },
  {
   "cell_type": "code",
   "execution_count": 9,
   "id": "aaa488cb",
   "metadata": {
    "execution": {
     "iopub.execute_input": "2024-01-26T16:44:19.265775Z",
     "iopub.status.busy": "2024-01-26T16:44:19.265391Z",
     "iopub.status.idle": "2024-01-26T16:44:19.276136Z",
     "shell.execute_reply": "2024-01-26T16:44:19.274947Z"
    },
    "papermill": {
     "duration": 0.029042,
     "end_time": "2024-01-26T16:44:19.278703",
     "exception": false,
     "start_time": "2024-01-26T16:44:19.249661",
     "status": "completed"
    },
    "tags": []
   },
   "outputs": [
    {
     "data": {
      "text/plain": [
       "tensor(6.)"
      ]
     },
     "execution_count": 9,
     "metadata": {},
     "output_type": "execute_result"
    }
   ],
   "source": [
    "def dot_ops(w, x):\n",
    "    return w @ x # FIXME\n",
    "dot_ops(w, x)"
   ]
  },
  {
   "cell_type": "code",
   "execution_count": 10,
   "id": "dd744386",
   "metadata": {
    "execution": {
     "iopub.execute_input": "2024-01-26T16:44:19.311064Z",
     "iopub.status.busy": "2024-01-26T16:44:19.310353Z",
     "iopub.status.idle": "2024-01-26T16:44:19.316036Z",
     "shell.execute_reply": "2024-01-26T16:44:19.315096Z"
    },
    "papermill": {
     "duration": 0.024506,
     "end_time": "2024-01-26T16:44:19.318411",
     "exception": false,
     "start_time": "2024-01-26T16:44:19.293905",
     "status": "completed"
    },
    "tags": []
   },
   "outputs": [],
   "source": [
    "run_dot_tests(dot_ops)"
   ]
  },
  {
   "cell_type": "markdown",
   "id": "8d9f805e",
   "metadata": {
    "papermill": {
     "duration": 0.015403,
     "end_time": "2024-01-26T16:44:19.348765",
     "exception": false,
     "start_time": "2024-01-26T16:44:19.333362",
     "status": "completed"
    },
    "tags": []
   },
   "source": [
    "\n",
    "Finally, since `dot` is such an important operation, PyTorch provides it directly:\n",
    "\n",
    "```python\n",
    "torch.dot(w, x)\n",
    "```\n",
    "\n",
    "Python recently introduced a \"matmul operator\", `@`, that does the same thing.\n",
    "\n",
    "```python\n",
    "w @ x\n",
    "```\n",
    "\n",
    "To apply this knowledge, let's try writing a slightly more complex function: a linear transformation layer.\n"
   ]
  },
  {
   "cell_type": "markdown",
   "id": "35eef60a",
   "metadata": {
    "papermill": {
     "duration": 0.014238,
     "end_time": "2024-01-26T16:44:19.378050",
     "exception": false,
     "start_time": "2024-01-26T16:44:19.363812",
     "status": "completed"
    },
    "tags": []
   },
   "source": [
    "## Linear Layer\n",
    "\n",
    "The most basic component of a neural network (and many other machine learning methods) is a *linear transformation layer*. Going back to our `y = w*x + b` example, the `w*x + b` is the linear transformation: given an `x`, dot it with some `w`eights and add a `b`ias.\n",
    "\n",
    "**Task**: **Write a function that performs a linear transformation of a vector `x`.** Use PyTorch's built-in functionality for dot products (`torch.dot()` or ` @`)."
   ]
  },
  {
   "cell_type": "code",
   "execution_count": 11,
   "id": "962e6dd7",
   "metadata": {
    "execution": {
     "iopub.execute_input": "2024-01-26T16:44:19.409618Z",
     "iopub.status.busy": "2024-01-26T16:44:19.408961Z",
     "iopub.status.idle": "2024-01-26T16:44:19.417345Z",
     "shell.execute_reply": "2024-01-26T16:44:19.416199Z"
    },
    "papermill": {
     "duration": 0.027605,
     "end_time": "2024-01-26T16:44:19.420071",
     "exception": false,
     "start_time": "2024-01-26T16:44:19.392466",
     "status": "completed"
    },
    "tags": []
   },
   "outputs": [
    {
     "data": {
      "text/plain": [
       "tensor(2.)"
      ]
     },
     "execution_count": 11,
     "metadata": {},
     "output_type": "execute_result"
    }
   ],
   "source": [
    "def linear(weights, bias, x):\n",
    "    return weights @ x + bias # FIXME\n",
    "linear(w, -4.0, x)"
   ]
  },
  {
   "cell_type": "code",
   "execution_count": 12,
   "id": "ed6c9932",
   "metadata": {
    "execution": {
     "iopub.execute_input": "2024-01-26T16:44:19.453990Z",
     "iopub.status.busy": "2024-01-26T16:44:19.453539Z",
     "iopub.status.idle": "2024-01-26T16:44:19.459463Z",
     "shell.execute_reply": "2024-01-26T16:44:19.458271Z"
    },
    "papermill": {
     "duration": 0.02608,
     "end_time": "2024-01-26T16:44:19.461808",
     "exception": false,
     "start_time": "2024-01-26T16:44:19.435728",
     "status": "completed"
    },
    "tags": []
   },
   "outputs": [],
   "source": [
    "assert torch.isclose(linear(w, -4.0, x), torch.tensor(2.0))\n",
    "assert torch.isclose(linear(w, 0.0, x), torch.tensor(6.0))"
   ]
  },
  {
   "cell_type": "markdown",
   "id": "fe10329e",
   "metadata": {
    "papermill": {
     "duration": 0.014333,
     "end_time": "2024-01-26T16:44:19.491327",
     "exception": false,
     "start_time": "2024-01-26T16:44:19.476994",
     "status": "completed"
    },
    "tags": []
   },
   "source": [
    "\n",
    "\n",
    "### Linear layer, Module-style\n",
    "\n",
    "Notice that `linear`'s job is to transform `x`, but it needed 3 parameters, not just 1. It would be convenient to view the `linear` function as simply a function of `x`, with `weights` and `bias` being internal details.\n",
    "\n",
    "One way to do this is to make a `Linear` *class* that has these as parameters.\n",
    "\n",
    "**Task**: Fill in the blanks in the template code to do this. (This is roughly how PyTorch's implementation works)."
   ]
  },
  {
   "cell_type": "code",
   "execution_count": 13,
   "id": "80c17403",
   "metadata": {
    "execution": {
     "iopub.execute_input": "2024-01-26T16:44:19.523348Z",
     "iopub.status.busy": "2024-01-26T16:44:19.522560Z",
     "iopub.status.idle": "2024-01-26T16:44:19.532482Z",
     "shell.execute_reply": "2024-01-26T16:44:19.531407Z"
    },
    "papermill": {
     "duration": 0.028965,
     "end_time": "2024-01-26T16:44:19.534952",
     "exception": false,
     "start_time": "2024-01-26T16:44:19.505987",
     "status": "completed"
    },
    "tags": []
   },
   "outputs": [
    {
     "data": {
      "text/plain": [
       "tensor(2.)"
      ]
     },
     "execution_count": 13,
     "metadata": {},
     "output_type": "execute_result"
    }
   ],
   "source": [
    "class Linear:\n",
    "    def __init__(self, weights, bias):\n",
    "        self.weights = weights\n",
    "        self.bias = bias\n",
    "        \n",
    "    def forward(self, x):\n",
    "        return linear(self.weights, self.bias, x)\n",
    "\n",
    "layer = Linear(weights=w, bias=-4.0)\n",
    "layer.forward(x)"
   ]
  },
  {
   "cell_type": "markdown",
   "id": "711380c5",
   "metadata": {
    "papermill": {
     "duration": 0.014362,
     "end_time": "2024-01-26T16:44:19.564000",
     "exception": false,
     "start_time": "2024-01-26T16:44:19.549638",
     "status": "completed"
    },
    "tags": []
   },
   "source": [
    "Note: PyTorch's [`Linear` layer](https://pytorch.org/docs/stable/generated/torch.nn.Linear.html#torch.nn.Linear) gives a vector-valued output, so to make the dimensionality work out, it actually computes `x @ weights.T + bias`, where `T` computes the transpose of the array."
   ]
  },
  {
   "cell_type": "markdown",
   "id": "6ed424c5",
   "metadata": {
    "papermill": {
     "duration": 0.014255,
     "end_time": "2024-01-26T16:44:19.592841",
     "exception": false,
     "start_time": "2024-01-26T16:44:19.578586",
     "status": "completed"
    },
    "tags": []
   },
   "source": [
    "\n",
    "## Mean Squared Error\n",
    "\n",
    "Now let's apply what you just learned about elementwise operations on PyTorch tensors to another very common building block in machine learning: measuring *error*.\n",
    "\n",
    "Once we make some predictions, we usually want to be able to measure how *good* the predictions were. For regression tasks, i.e., tasks where we're predicting *numbers*, one very common measure is the *mean squared error*. Here's an algorithm to compute it:\n",
    "\n",
    "- compute `resid` as true (`y_true`) minus predicted (`y_pred`).\n",
    "- compute `squared_error` by squaring each number in `resid`\n",
    "- compute `mean_squared_error` by taking the `mean` of `squared_error`.\n",
    "\n",
    "> **Technical note**: This process implements the mean squared error *loss function*. That is a function that is given some *true* values (call them $y_1$ through $y_n$) and some *predicted* values (call them $\\hat{y}_1$ through $\\hat{y}_n$) and returns $$\\text{MSE} = \\frac{1}{n}\\sum_{i=1}^{n}(y_i - \\hat{y}_i)^2.$$\n",
    "\n",
    "Generally you'd get the predicted values, `y_pred`, by calling a function that implements a model (like `linear.forward()` above. But to focus our attention on the error computation, we've provided sample values for `y_true` and `y_pred` that you can just use as-is."
   ]
  },
  {
   "cell_type": "code",
   "execution_count": 14,
   "id": "694e2217",
   "metadata": {
    "execution": {
     "iopub.execute_input": "2024-01-26T16:44:19.623756Z",
     "iopub.status.busy": "2024-01-26T16:44:19.623351Z",
     "iopub.status.idle": "2024-01-26T16:44:19.629016Z",
     "shell.execute_reply": "2024-01-26T16:44:19.627774Z"
    },
    "papermill": {
     "duration": 0.023775,
     "end_time": "2024-01-26T16:44:19.631258",
     "exception": false,
     "start_time": "2024-01-26T16:44:19.607483",
     "status": "completed"
    },
    "tags": []
   },
   "outputs": [],
   "source": [
    "y_true = torch.tensor([3.14, 1.59, 2.65])\n",
    "y_pred = torch.tensor([2.71, 8.28, 1.83])"
   ]
  },
  {
   "cell_type": "markdown",
   "id": "e2c08db4",
   "metadata": {
    "papermill": {
     "duration": 0.01429,
     "end_time": "2024-01-26T16:44:19.660230",
     "exception": false,
     "start_time": "2024-01-26T16:44:19.645940",
     "status": "completed"
    },
    "tags": []
   },
   "source": [
    "**Task**:\n",
    "\n",
    "1. Implement each line of the above algorithm in PyTorch code.\n",
    "    - Use separate cells so you can check the results along the way. For example, the first cell should have two lines, the first to assign (`resid = ...`) and the second to show the result (`resid`).\n",
    "    - **You should not need to write any loops.**\n",
    "    - Try using both `squared_error.mean()` and `torch.mean(squared_error)`.\n",
    "2. Now, write the entire computation in a single succinct expression (i.e., without having to create intermediate variables for `resid` and `squared_error`). Check that you get the same result.\n",
    "\n",
    "> Notes:\n",
    "> \n",
    "> - Recall that Python's exponentiation operator is `**`.\n",
    "> - PyTorch tensors also have a `.pow()` method. So you can also use `.pow(2)`; you might see this in other people's code.\n"
   ]
  },
  {
   "cell_type": "code",
   "execution_count": 15,
   "id": "9773740e",
   "metadata": {
    "execution": {
     "iopub.execute_input": "2024-01-26T16:44:19.691410Z",
     "iopub.status.busy": "2024-01-26T16:44:19.690651Z",
     "iopub.status.idle": "2024-01-26T16:44:19.698571Z",
     "shell.execute_reply": "2024-01-26T16:44:19.697493Z"
    },
    "papermill": {
     "duration": 0.026059,
     "end_time": "2024-01-26T16:44:19.700865",
     "exception": false,
     "start_time": "2024-01-26T16:44:19.674806",
     "status": "completed"
    },
    "tags": []
   },
   "outputs": [
    {
     "data": {
      "text/plain": [
       "tensor([ 0.4300, -6.6900,  0.8200])"
      ]
     },
     "execution_count": 15,
     "metadata": {},
     "output_type": "execute_result"
    }
   ],
   "source": [
    "resid = y_true - y_pred\n",
    "resid"
   ]
  },
  {
   "cell_type": "code",
   "execution_count": 16,
   "id": "d9446cf0",
   "metadata": {
    "execution": {
     "iopub.execute_input": "2024-01-26T16:44:19.738567Z",
     "iopub.status.busy": "2024-01-26T16:44:19.738168Z",
     "iopub.status.idle": "2024-01-26T16:44:19.749659Z",
     "shell.execute_reply": "2024-01-26T16:44:19.748020Z"
    },
    "papermill": {
     "duration": 0.036423,
     "end_time": "2024-01-26T16:44:19.752228",
     "exception": false,
     "start_time": "2024-01-26T16:44:19.715805",
     "status": "completed"
    },
    "tags": []
   },
   "outputs": [
    {
     "data": {
      "text/plain": [
       "tensor([ 0.1849, 44.7561,  0.6724])"
      ]
     },
     "execution_count": 16,
     "metadata": {},
     "output_type": "execute_result"
    }
   ],
   "source": [
    "squared_error = resid ** 2\n",
    "squared_error"
   ]
  },
  {
   "cell_type": "code",
   "execution_count": 17,
   "id": "ee3f4a9e",
   "metadata": {
    "execution": {
     "iopub.execute_input": "2024-01-26T16:44:19.785622Z",
     "iopub.status.busy": "2024-01-26T16:44:19.785104Z",
     "iopub.status.idle": "2024-01-26T16:44:19.792917Z",
     "shell.execute_reply": "2024-01-26T16:44:19.791609Z"
    },
    "papermill": {
     "duration": 0.026974,
     "end_time": "2024-01-26T16:44:19.795431",
     "exception": false,
     "start_time": "2024-01-26T16:44:19.768457",
     "status": "completed"
    },
    "tags": []
   },
   "outputs": [
    {
     "data": {
      "text/plain": [
       "tensor(15.2045)"
      ]
     },
     "execution_count": 17,
     "metadata": {},
     "output_type": "execute_result"
    }
   ],
   "source": [
    "# your code here to compute MSE from squared_error\n",
    "squared_error.mean()"
   ]
  },
  {
   "cell_type": "code",
   "execution_count": 18,
   "id": "279ab2e1",
   "metadata": {
    "execution": {
     "iopub.execute_input": "2024-01-26T16:44:19.827758Z",
     "iopub.status.busy": "2024-01-26T16:44:19.827349Z",
     "iopub.status.idle": "2024-01-26T16:44:19.835503Z",
     "shell.execute_reply": "2024-01-26T16:44:19.834452Z"
    },
    "papermill": {
     "duration": 0.027065,
     "end_time": "2024-01-26T16:44:19.837737",
     "exception": false,
     "start_time": "2024-01-26T16:44:19.810672",
     "status": "completed"
    },
    "tags": []
   },
   "outputs": [
    {
     "data": {
      "text/plain": [
       "tensor(15.2045)"
      ]
     },
     "execution_count": 18,
     "metadata": {},
     "output_type": "execute_result"
    }
   ],
   "source": [
    "# your code here to do the whole thing in one line\n",
    "((y_true - y_pred) ** 2).mean()"
   ]
  },
  {
   "cell_type": "markdown",
   "id": "de5df6f1",
   "metadata": {
    "papermill": {
     "duration": 0.015024,
     "end_time": "2024-01-26T16:44:19.868064",
     "exception": false,
     "start_time": "2024-01-26T16:44:19.853040",
     "status": "completed"
    },
    "tags": []
   },
   "source": [
    "## Multidimensional arrays\n",
    "\n",
    "NumPy / PyTorch arrays can have more than one axis. Think of these like lists of lists (of lists of lists of ...)."
   ]
  },
  {
   "cell_type": "code",
   "execution_count": 19,
   "id": "362b3497",
   "metadata": {
    "execution": {
     "iopub.execute_input": "2024-01-26T16:44:19.900245Z",
     "iopub.status.busy": "2024-01-26T16:44:19.899814Z",
     "iopub.status.idle": "2024-01-26T16:44:19.917107Z",
     "shell.execute_reply": "2024-01-26T16:44:19.915948Z"
    },
    "papermill": {
     "duration": 0.036429,
     "end_time": "2024-01-26T16:44:19.919685",
     "exception": false,
     "start_time": "2024-01-26T16:44:19.883256",
     "status": "completed"
    },
    "tags": []
   },
   "outputs": [
    {
     "data": {
      "text/plain": [
       "tensor([[0.0290, 0.4019],\n",
       "        [0.2598, 0.3666],\n",
       "        [0.0583, 0.7006],\n",
       "        [0.0518, 0.4681]])"
      ]
     },
     "execution_count": 19,
     "metadata": {},
     "output_type": "execute_result"
    }
   ],
   "source": [
    "torch.manual_seed(1234)\n",
    "x = torch.rand(4, 2)\n",
    "x"
   ]
  },
  {
   "cell_type": "markdown",
   "id": "2c73c74b",
   "metadata": {
    "papermill": {
     "duration": 0.015411,
     "end_time": "2024-01-26T16:44:19.950476",
     "exception": false,
     "start_time": "2024-01-26T16:44:19.935065",
     "status": "completed"
    },
    "tags": []
   },
   "source": [
    "**Task**: Use *indexing* to get out the top-left number, the top-right number, the bottom-left, and the bottom-right. One of them is done for you; study how that works."
   ]
  },
  {
   "cell_type": "code",
   "execution_count": 20,
   "id": "54585e7e",
   "metadata": {
    "execution": {
     "iopub.execute_input": "2024-01-26T16:44:19.984015Z",
     "iopub.status.busy": "2024-01-26T16:44:19.983590Z",
     "iopub.status.idle": "2024-01-26T16:44:19.991260Z",
     "shell.execute_reply": "2024-01-26T16:44:19.990408Z"
    },
    "papermill": {
     "duration": 0.027296,
     "end_time": "2024-01-26T16:44:19.993274",
     "exception": false,
     "start_time": "2024-01-26T16:44:19.965978",
     "status": "completed"
    },
    "tags": []
   },
   "outputs": [
    {
     "data": {
      "text/plain": [
       "tensor(0.4681)"
      ]
     },
     "execution_count": 20,
     "metadata": {},
     "output_type": "execute_result"
    }
   ],
   "source": [
    "bottom_right = x[-1, -1]\n",
    "assert bottom_right == x[3, 1] and bottom_right == x[3][-1]\n",
    "bottom_right"
   ]
  },
  {
   "cell_type": "code",
   "execution_count": 21,
   "id": "927a2be6",
   "metadata": {
    "execution": {
     "iopub.execute_input": "2024-01-26T16:44:20.026494Z",
     "iopub.status.busy": "2024-01-26T16:44:20.026095Z",
     "iopub.status.idle": "2024-01-26T16:44:20.032228Z",
     "shell.execute_reply": "2024-01-26T16:44:20.031337Z"
    },
    "papermill": {
     "duration": 0.025681,
     "end_time": "2024-01-26T16:44:20.034620",
     "exception": false,
     "start_time": "2024-01-26T16:44:20.008939",
     "status": "completed"
    },
    "tags": []
   },
   "outputs": [
    {
     "name": "stdout",
     "output_type": "stream",
     "text": [
      "Top-Left: 0.03, Top-Right: 0.40, Bottom-Left: 0.05\n"
     ]
    }
   ],
   "source": [
    "top_left = x[0, 0]\n",
    "top_right = x[0, -1]\n",
    "bottom_left = x[-1, 0]\n",
    "print(f\"Top-Left: {top_left:.2f}, Top-Right: {top_right:.2f}, Bottom-Left: {bottom_left:.2f}\")"
   ]
  },
  {
   "cell_type": "markdown",
   "id": "c9998ce0",
   "metadata": {
    "papermill": {
     "duration": 0.015414,
     "end_time": "2024-01-26T16:44:20.065737",
     "exception": false,
     "start_time": "2024-01-26T16:44:20.050323",
     "status": "completed"
    },
    "tags": []
   },
   "source": [
    "We can apply a reduction operation \"along\" an axis, e.g.,"
   ]
  },
  {
   "cell_type": "code",
   "execution_count": 22,
   "id": "35096d5d",
   "metadata": {
    "execution": {
     "iopub.execute_input": "2024-01-26T16:44:20.098862Z",
     "iopub.status.busy": "2024-01-26T16:44:20.098428Z",
     "iopub.status.idle": "2024-01-26T16:44:20.107191Z",
     "shell.execute_reply": "2024-01-26T16:44:20.105909Z"
    },
    "papermill": {
     "duration": 0.028419,
     "end_time": "2024-01-26T16:44:20.109814",
     "exception": false,
     "start_time": "2024-01-26T16:44:20.081395",
     "status": "completed"
    },
    "tags": []
   },
   "outputs": [
    {
     "data": {
      "text/plain": [
       "tensor([0.4309, 0.6265, 0.7589, 0.5199])"
      ]
     },
     "execution_count": 22,
     "metadata": {},
     "output_type": "execute_result"
    }
   ],
   "source": [
    "x.sum(axis=1)"
   ]
  },
  {
   "cell_type": "markdown",
   "id": "f08cd7d4",
   "metadata": {
    "papermill": {
     "duration": 0.016207,
     "end_time": "2024-01-26T16:44:20.142075",
     "exception": false,
     "start_time": "2024-01-26T16:44:20.125868",
     "status": "completed"
    },
    "tags": []
   },
   "source": [
    "*Task*: Is summing on `axis=1` summing each row or summing each column?"
   ]
  },
  {
   "cell_type": "markdown",
   "id": "9577f841",
   "metadata": {
    "papermill": {
     "duration": 0.015961,
     "end_time": "2024-01-26T16:44:20.173803",
     "exception": false,
     "start_time": "2024-01-26T16:44:20.157842",
     "status": "completed"
    },
    "tags": []
   },
   "source": [
    "Each row."
   ]
  },
  {
   "cell_type": "markdown",
   "id": "2160b6ba",
   "metadata": {
    "papermill": {
     "duration": 0.016062,
     "end_time": "2024-01-26T16:44:20.205807",
     "exception": false,
     "start_time": "2024-01-26T16:44:20.189745",
     "status": "completed"
    },
    "tags": []
   },
   "source": [
    "There's a general rule for what happens when you reduce along an axis: that axis \"goes away\". To think about that rule and its implications, try the following exercise:\n",
    "\n",
    "**Task**: Predict what the `.shape` of each of the following operations will be. Then try each one and check if you were correct. For example, for the first operation, `z.max(axis=0)`, the shape should be `(6, 7)`; check that it's true and make sure you can explain why."
   ]
  },
  {
   "cell_type": "code",
   "execution_count": 23,
   "id": "1f4e6a61",
   "metadata": {
    "execution": {
     "iopub.execute_input": "2024-01-26T16:44:20.241523Z",
     "iopub.status.busy": "2024-01-26T16:44:20.240743Z",
     "iopub.status.idle": "2024-01-26T16:44:20.253280Z",
     "shell.execute_reply": "2024-01-26T16:44:20.252378Z"
    },
    "papermill": {
     "duration": 0.033233,
     "end_time": "2024-01-26T16:44:20.255573",
     "exception": false,
     "start_time": "2024-01-26T16:44:20.222340",
     "status": "completed"
    },
    "tags": []
   },
   "outputs": [
    {
     "data": {
      "text/plain": [
       "torch.Size([5, 6, 7])"
      ]
     },
     "execution_count": 23,
     "metadata": {},
     "output_type": "execute_result"
    }
   ],
   "source": [
    "z = torch.rand(5, 6, 7)\n",
    "\n",
    "# z.max(axis=0)\n",
    "# z.max(axis=1)\n",
    "# z.max(axis=2)\n",
    "# z.max(axis=-1)\n",
    "# z[0]  # indexing is kind of like a reduction operation\n",
    "z[1].max(axis=1)\n",
    "\n",
    "z.shape"
   ]
  },
  {
   "cell_type": "markdown",
   "id": "6d589744",
   "metadata": {
    "papermill": {
     "duration": 0.016795,
     "end_time": "2024-01-26T16:44:20.290212",
     "exception": false,
     "start_time": "2024-01-26T16:44:20.273417",
     "status": "completed"
    },
    "tags": []
   },
   "source": [
    "Finally, the tensor product is a reduction operation that happens between two arrays / tensors. It reduces \"along\" the middle axis.\n",
    "\n",
    "**Task**: Try to find several different shapes that make the following code succeed."
   ]
  },
  {
   "cell_type": "code",
   "execution_count": 24,
   "id": "f54fd0c6",
   "metadata": {
    "execution": {
     "iopub.execute_input": "2024-01-26T16:44:20.325498Z",
     "iopub.status.busy": "2024-01-26T16:44:20.324817Z",
     "iopub.status.idle": "2024-01-26T16:44:20.340586Z",
     "shell.execute_reply": "2024-01-26T16:44:20.339782Z"
    },
    "papermill": {
     "duration": 0.035577,
     "end_time": "2024-01-26T16:44:20.342874",
     "exception": false,
     "start_time": "2024-01-26T16:44:20.307297",
     "status": "completed"
    },
    "tags": []
   },
   "outputs": [
    {
     "data": {
      "text/plain": [
       "torch.Size([2, 3, 2])"
      ]
     },
     "execution_count": 24,
     "metadata": {},
     "output_type": "execute_result"
    }
   ],
   "source": [
    "shape1 = (2, 3, 4) # try to find examples with 1, 2, or 3 different numbers here.\n",
    "shape2 = (4, 2) # try to find examples with 1, 2, or 3 different numbers here.\n",
    "x = torch.rand(shape1)\n",
    "y = torch.rand(shape2)\n",
    "(x @ y).shape"
   ]
  },
  {
   "cell_type": "markdown",
   "id": "e9d18461",
   "metadata": {
    "papermill": {
     "duration": 0.016687,
     "end_time": "2024-01-26T16:44:20.375847",
     "exception": false,
     "start_time": "2024-01-26T16:44:20.359160",
     "status": "completed"
    },
    "tags": []
   },
   "source": [
    "## Appendix\n",
    "\n",
    "For comparison and future reference, here's PyTorch's internal implementation of MSE loss. There are two ways to access it: the [functional style](https://pytorch.org/docs/stable/generated/torch.nn.functional.mse_loss.html#torch.nn.functional.mse_loss)..."
   ]
  },
  {
   "cell_type": "code",
   "execution_count": 25,
   "id": "d2e7ce95",
   "metadata": {
    "execution": {
     "iopub.execute_input": "2024-01-26T16:44:20.410226Z",
     "iopub.status.busy": "2024-01-26T16:44:20.409534Z",
     "iopub.status.idle": "2024-01-26T16:44:20.419828Z",
     "shell.execute_reply": "2024-01-26T16:44:20.418677Z"
    },
    "papermill": {
     "duration": 0.030317,
     "end_time": "2024-01-26T16:44:20.422383",
     "exception": false,
     "start_time": "2024-01-26T16:44:20.392066",
     "status": "completed"
    },
    "tags": []
   },
   "outputs": [
    {
     "data": {
      "text/plain": [
       "tensor(15.2045)"
      ]
     },
     "execution_count": 25,
     "metadata": {},
     "output_type": "execute_result"
    }
   ],
   "source": [
    "F.mse_loss(y_pred, y_true)"
   ]
  },
  {
   "cell_type": "markdown",
   "id": "2b3a22bc",
   "metadata": {
    "papermill": {
     "duration": 0.016012,
     "end_time": "2024-01-26T16:44:20.454801",
     "exception": false,
     "start_time": "2024-01-26T16:44:20.438789",
     "status": "completed"
    },
    "tags": []
   },
   "source": [
    "and the [module style](https://pytorch.org/docs/stable/generated/torch.nn.MSELoss.html#torch.nn.MSELoss):"
   ]
  },
  {
   "cell_type": "code",
   "execution_count": 26,
   "id": "37f50357",
   "metadata": {
    "execution": {
     "iopub.execute_input": "2024-01-26T16:44:20.489852Z",
     "iopub.status.busy": "2024-01-26T16:44:20.488754Z",
     "iopub.status.idle": "2024-01-26T16:44:20.497284Z",
     "shell.execute_reply": "2024-01-26T16:44:20.496218Z"
    },
    "papermill": {
     "duration": 0.028682,
     "end_time": "2024-01-26T16:44:20.499742",
     "exception": false,
     "start_time": "2024-01-26T16:44:20.471060",
     "status": "completed"
    },
    "tags": []
   },
   "outputs": [
    {
     "data": {
      "text/plain": [
       "tensor(15.2045)"
      ]
     },
     "execution_count": 26,
     "metadata": {},
     "output_type": "execute_result"
    }
   ],
   "source": [
    "loss_fn = nn.MSELoss()\n",
    "loss_fn(y_pred, y_true)"
   ]
  }
 ],
 "metadata": {
  "kaggle": {
   "accelerator": "none",
   "dataSources": [],
   "dockerImageVersionId": 30635,
   "isGpuEnabled": false,
   "isInternetEnabled": true,
   "language": "python",
   "sourceType": "notebook"
  },
  "kernelspec": {
   "display_name": "Python 3",
   "language": "python",
   "name": "python3"
  },
  "language_info": {
   "codemirror_mode": {
    "name": "ipython",
    "version": 3
   },
   "file_extension": ".py",
   "mimetype": "text/x-python",
   "name": "python",
   "nbconvert_exporter": "python",
   "pygments_lexer": "ipython3",
   "version": "3.10.12"
  },
  "papermill": {
   "default_parameters": {},
   "duration": 9.975935,
   "end_time": "2024-01-26T16:44:21.439008",
   "environment_variables": {},
   "exception": null,
   "input_path": "__notebook__.ipynb",
   "output_path": "__notebook__.ipynb",
   "parameters": {},
   "start_time": "2024-01-26T16:44:11.463073",
   "version": "2.4.0"
  }
 },
 "nbformat": 4,
 "nbformat_minor": 5
}
