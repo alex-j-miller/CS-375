{
 "cells": [
  {
   "cell_type": "markdown",
   "id": "763dd5a5",
   "metadata": {
    "papermill": {
     "duration": 0.004802,
     "end_time": "2024-02-02T16:48:25.666688",
     "exception": false,
     "start_time": "2024-02-02T16:48:25.661886",
     "status": "completed"
    },
    "tags": []
   },
   "source": [
    "# Linear Regression the Hard Way\n",
    "\n",
    "Task: fit a linear regression using gradient descent"
   ]
  },
  {
   "cell_type": "markdown",
   "id": "339ed826",
   "metadata": {
    "papermill": {
     "duration": 0.00436,
     "end_time": "2024-02-02T16:48:25.675535",
     "exception": false,
     "start_time": "2024-02-02T16:48:25.671175",
     "status": "completed"
    },
    "tags": []
   },
   "source": [
    "## Setup"
   ]
  },
  {
   "cell_type": "code",
   "execution_count": 1,
   "id": "cf6897eb",
   "metadata": {
    "execution": {
     "iopub.execute_input": "2024-02-02T16:48:25.685911Z",
     "iopub.status.busy": "2024-02-02T16:48:25.685517Z",
     "iopub.status.idle": "2024-02-02T16:48:26.824670Z",
     "shell.execute_reply": "2024-02-02T16:48:26.823554Z"
    },
    "papermill": {
     "duration": 1.147706,
     "end_time": "2024-02-02T16:48:26.827619",
     "exception": false,
     "start_time": "2024-02-02T16:48:25.679913",
     "status": "completed"
    },
    "tags": []
   },
   "outputs": [],
   "source": [
    "import numpy as np\n",
    "np.set_printoptions(precision=3)\n",
    "import ipywidgets as widgets\n",
    "import matplotlib.pyplot as plt\n",
    "import pandas as pd\n",
    "%matplotlib inline"
   ]
  },
  {
   "cell_type": "markdown",
   "id": "b990cf47",
   "metadata": {
    "papermill": {
     "duration": 0.0041,
     "end_time": "2024-02-02T16:48:26.836527",
     "exception": false,
     "start_time": "2024-02-02T16:48:26.832427",
     "status": "completed"
    },
    "tags": []
   },
   "source": [
    "## Task"
   ]
  },
  {
   "cell_type": "markdown",
   "id": "486e573f",
   "metadata": {
    "papermill": {
     "duration": 0.003959,
     "end_time": "2024-02-02T16:48:26.844920",
     "exception": false,
     "start_time": "2024-02-02T16:48:26.840961",
     "status": "completed"
    },
    "tags": []
   },
   "source": [
    "Suppose we have a dataset with just a single feature `x` and continuous outcome variable `y`. We'll have a few possible datasets."
   ]
  },
  {
   "cell_type": "code",
   "execution_count": 2,
   "id": "9ff3341e",
   "metadata": {
    "execution": {
     "iopub.execute_input": "2024-02-02T16:48:26.855739Z",
     "iopub.status.busy": "2024-02-02T16:48:26.855220Z",
     "iopub.status.idle": "2024-02-02T16:48:26.865242Z",
     "shell.execute_reply": "2024-02-02T16:48:26.864177Z"
    },
    "papermill": {
     "duration": 0.01846,
     "end_time": "2024-02-02T16:48:26.867616",
     "exception": false,
     "start_time": "2024-02-02T16:48:26.849156",
     "status": "completed"
    },
    "tags": []
   },
   "outputs": [],
   "source": [
    "DATASET = 'toy2'\n",
    "\n",
    "if DATASET == 'toy':\n",
    "    x = np.array([0, 1, 2, 3])[:, np.newaxis]\n",
    "    y_true = np.array([-1, .5, 2.0, 3.5])[:, np.newaxis]\n",
    "elif DATASET == 'toy2':\n",
    "    x = np.array([0, 1, 2, 3])[:, np.newaxis]\n",
    "    y_true = np.array([-1, .5, 2.0, 35])[:, np.newaxis]\n",
    "elif DATASET == \"temps\":\n",
    "    data = pd.read_csv(\"https://data.giss.nasa.gov/gistemp/graphs_v4/graph_data/Global_Mean_Estimates_based_on_Land_and_Ocean_Data/graph.csv\", skiprows=1)\n",
    "    # Shape x to be items-by-features\n",
    "    x = data.iloc[:, 0].values.astype(np.float32)[:, np.newaxis]\n",
    "    # scale x to a reasonable range\n",
    "    x -= 1880.0\n",
    "    x /= 100.\n",
    "    y_true = data.iloc[:, 1].values.astype(np.float32)[:, np.newaxis]\n"
   ]
  },
  {
   "cell_type": "code",
   "execution_count": 3,
   "id": "3d5151bb",
   "metadata": {
    "execution": {
     "iopub.execute_input": "2024-02-02T16:48:26.878119Z",
     "iopub.status.busy": "2024-02-02T16:48:26.877683Z",
     "iopub.status.idle": "2024-02-02T16:48:27.171908Z",
     "shell.execute_reply": "2024-02-02T16:48:27.170653Z"
    },
    "papermill": {
     "duration": 0.302726,
     "end_time": "2024-02-02T16:48:27.174703",
     "exception": false,
     "start_time": "2024-02-02T16:48:26.871977",
     "status": "completed"
    },
    "tags": []
   },
   "outputs": [
    {
     "name": "stdout",
     "output_type": "stream",
     "text": [
      "(4, 1) (4, 1)\n"
     ]
    },
    {
     "data": {
      "image/png": "[encoded data removed]",
      "text/plain": [
       "<Figure size 640x480 with 1 Axes>"
      ]
     },
     "metadata": {},
     "output_type": "display_data"
    }
   ],
   "source": [
    "if len(x) < 50:\n",
    "    plt.scatter(x, y_true)\n",
    "else:\n",
    "    plt.plot(x, y_true)\n",
    "print(x.shape, y_true.shape)"
   ]
  },
  {
   "cell_type": "markdown",
   "id": "df4d354e",
   "metadata": {
    "papermill": {
     "duration": 0.004499,
     "end_time": "2024-02-02T16:48:27.184271",
     "exception": false,
     "start_time": "2024-02-02T16:48:27.179772",
     "status": "completed"
    },
    "tags": []
   },
   "source": [
    "Create some features that we'll need later; don't worry about this code right now."
   ]
  },
  {
   "cell_type": "code",
   "execution_count": 4,
   "id": "c06c1d1c",
   "metadata": {
    "execution": {
     "iopub.execute_input": "2024-02-02T16:48:27.196195Z",
     "iopub.status.busy": "2024-02-02T16:48:27.195633Z",
     "iopub.status.idle": "2024-02-02T16:48:27.202392Z",
     "shell.execute_reply": "2024-02-02T16:48:27.201105Z"
    },
    "papermill": {
     "duration": 0.016112,
     "end_time": "2024-02-02T16:48:27.205164",
     "exception": false,
     "start_time": "2024-02-02T16:48:27.189052",
     "status": "completed"
    },
    "tags": []
   },
   "outputs": [],
   "source": [
    "# a simple hardcoded linear layer\n",
    "pretend_first_layer_out = x @ np.ones((1, 2)) + np.array([0.0, -0.5])\n",
    "# a rectifier\n",
    "pretend_first_layer_activations = np.maximum(pretend_first_layer_out, 0.0)\n",
    "f1, f2 = pretend_first_layer_activations.T"
   ]
  },
  {
   "cell_type": "markdown",
   "id": "27950759",
   "metadata": {
    "papermill": {
     "duration": 0.004465,
     "end_time": "2024-02-02T16:48:27.214518",
     "exception": false,
     "start_time": "2024-02-02T16:48:27.210053",
     "status": "completed"
    },
    "tags": []
   },
   "source": [
    "This notebook will be a bit different from usual: you'll be editing a *single* block of code. So the final notebook won't show your intermediate steps. That doesn't mean they aren't important; make sure you successfully complete each step before moving on to the next one."
   ]
  },
  {
   "cell_type": "code",
   "execution_count": 5,
   "id": "91a170b5",
   "metadata": {
    "execution": {
     "iopub.execute_input": "2024-02-02T16:48:27.226871Z",
     "iopub.status.busy": "2024-02-02T16:48:27.225834Z",
     "iopub.status.idle": "2024-02-02T16:48:27.718469Z",
     "shell.execute_reply": "2024-02-02T16:48:27.717296Z"
    },
    "papermill": {
     "duration": 0.501483,
     "end_time": "2024-02-02T16:48:27.721193",
     "exception": false,
     "start_time": "2024-02-02T16:48:27.219710",
     "status": "completed"
    },
    "tags": []
   },
   "outputs": [
    {
     "name": "stdout",
     "output_type": "stream",
     "text": [
      "Final Loss: 74.511, final weights: [10.728], final bias: [-6.825]\n"
     ]
    },
    {
     "data": {
      "image/png": "[encoded data removed]",
      "text/plain": [
       "<Figure size 1000x400 with 2 Axes>"
      ]
     },
     "metadata": {},
     "output_type": "display_data"
    }
   ],
   "source": [
    "## Working Cell\n",
    "\n",
    "# Set hyperparameters\n",
    "learning_rate = 0.1\n",
    "num_iter = 50\n",
    "\n",
    "# Initialize parameters\n",
    "weights = np.array([[0.0]])\n",
    "bias = np.array([0.0])\n",
    "\n",
    "# Keep a log of loss values\n",
    "losses = []\n",
    "\n",
    "## Do your work here.\n",
    "# # Step 5\n",
    "# for i in range(num_iter):\n",
    "#     # Step 1\n",
    "#     y_pred = x @ weights + bias\n",
    "#     resid = y_true - y_pred\n",
    "#     loss = np.mean(np.abs(resid))\n",
    "#     losses.append(loss)\n",
    "\n",
    "#     # Step 2\n",
    "#     n_points = x.shape[0]\n",
    "#     y_pred_grad = -np.sign(resid) / n_points\n",
    "\n",
    "#     # Step 3\n",
    "#     bias_grad = np.sum(y_pred_grad)\n",
    "\n",
    "#     # Step 4\n",
    "#     bias -= learning_rate * bias_grad\n",
    "\n",
    "#     # Step 6\n",
    "#     weights_grad = x.T @ y_pred_grad\n",
    "    \n",
    "#     weights -= learning_rate * weights_grad\n",
    "\n",
    "# Step 7\n",
    "for i in range(num_iter):\n",
    "    y_pred = x @ weights + bias\n",
    "    resid = y_true - y_pred\n",
    "    loss = np.mean(resid ** 2)\n",
    "    losses.append(loss)\n",
    "    \n",
    "    \n",
    "    n_points = x.shape[0]\n",
    "    y_pred_grad = -2 * resid / n_points\n",
    "    \n",
    "    bias_grad = np.sum(y_pred_grad)\n",
    "    bias -= learning_rate * bias_grad\n",
    "    \n",
    "    weights_grad = x.T @ y_pred_grad\n",
    "    weights -= learning_rate * weights_grad\n",
    "\n",
    "\n",
    "\n",
    "# Plot the results\n",
    "fig, axs = plt.subplots(ncols=2, figsize=(10, 4))\n",
    "axs[0].plot(losses)\n",
    "axs[0].set(title=\"Loss\", xlabel=\"iteration\", ylabel=\"Loss\")\n",
    "axs[1].scatter(x, y_true)\n",
    "axs[1].plot(x, y_pred, 'r');\n",
    "axs[1].set(title=\"Fitted model\", xlabel='x', ylabel='y')\n",
    "print(f\"Final Loss: {losses[-1]:.3f}, final weights: {weights.flatten()}, final bias: {bias}\")"
   ]
  }
 ],
 "metadata": {
  "kaggle": {
   "accelerator": "none",
   "dataSources": [],
   "dockerImageVersionId": 30646,
   "isGpuEnabled": false,
   "isInternetEnabled": true,
   "language": "python",
   "sourceType": "notebook"
  },
  "kernelspec": {
   "display_name": "Python 3",
   "language": "python",
   "name": "python3"
  },
  "language_info": {
   "codemirror_mode": {
    "name": "ipython",
    "version": 3
   },
   "file_extension": ".py",
   "mimetype": "text/x-python",
   "name": "python",
   "nbconvert_exporter": "python",
   "pygments_lexer": "ipython3",
   "version": "3.10.13"
  },
  "papermill": {
   "default_parameters": {},
   "duration": 5.808467,
   "end_time": "2024-02-02T16:48:28.248445",
   "environment_variables": {},
   "exception": null,
   "input_path": "__notebook__.ipynb",
   "output_path": "__notebook__.ipynb",
   "parameters": {},
   "start_time": "2024-02-02T16:48:22.439978",
   "version": "2.5.0"
  },
  "vscode": {
   "interpreter": {
    "hash": "74acacffd0749514a06dc7848c6df011b7a94ca944d93916dccfefa4cad34482"
   }
  }
 },
 "nbformat": 4,
 "nbformat_minor": 5
}
