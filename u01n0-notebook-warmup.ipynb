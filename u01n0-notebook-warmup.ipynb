{
 "cells": [
  {
   "cell_type": "markdown",
   "id": "3758fd84",
   "metadata": {
    "papermill": {
     "duration": 0.003793,
     "end_time": "2024-01-19T17:01:56.842760",
     "exception": false,
     "start_time": "2024-01-19T17:01:56.838967",
     "status": "completed"
    },
    "tags": []
   },
   "source": [
    "# Jupyter Notebook Warmup\n",
    "\n",
    "The instructions for this Fundamentals notebook are found on the Lab 1 instructions page. (In general the instructions will be within the notebook itself.)"
   ]
  },
  {
   "cell_type": "markdown",
   "id": "25d89135",
   "metadata": {
    "papermill": {
     "duration": 0.00296,
     "end_time": "2024-01-19T17:01:56.849193",
     "exception": false,
     "start_time": "2024-01-19T17:01:56.846233",
     "status": "completed"
    },
    "tags": []
   },
   "source": [
    "## Jupyter Notebooks"
   ]
  },
  {
   "cell_type": "code",
   "execution_count": 1,
   "id": "82fe4576",
   "metadata": {
    "execution": {
     "iopub.execute_input": "2024-01-19T17:01:56.857122Z",
     "iopub.status.busy": "2024-01-19T17:01:56.856450Z",
     "iopub.status.idle": "2024-01-19T17:01:56.871869Z",
     "shell.execute_reply": "2024-01-19T17:01:56.870761Z"
    },
    "papermill": {
     "duration": 0.022173,
     "end_time": "2024-01-19T17:01:56.874184",
     "exception": false,
     "start_time": "2024-01-19T17:01:56.852011",
     "status": "completed"
    },
    "tags": []
   },
   "outputs": [
    {
     "data": {
      "text/plain": [
       "2"
      ]
     },
     "execution_count": 1,
     "metadata": {},
     "output_type": "execute_result"
    }
   ],
   "source": [
    "1+1"
   ]
  },
  {
   "cell_type": "markdown",
   "id": "48a45330",
   "metadata": {
    "papermill": {
     "duration": 0.002628,
     "end_time": "2024-01-19T17:01:56.879802",
     "exception": false,
     "start_time": "2024-01-19T17:01:56.877174",
     "status": "completed"
    },
    "tags": []
   },
   "source": [
    "Here is some Markdown formatting:\n",
    "\n",
    "* This is **bold.**\n",
    "* This *is* italic.\n",
    "* This is a [link to Calvin's website](https://www.calvin.edu)."
   ]
  },
  {
   "cell_type": "code",
   "execution_count": 2,
   "id": "1595bfc0",
   "metadata": {
    "execution": {
     "iopub.execute_input": "2024-01-19T17:01:56.887590Z",
     "iopub.status.busy": "2024-01-19T17:01:56.886830Z",
     "iopub.status.idle": "2024-01-19T17:01:56.894276Z",
     "shell.execute_reply": "2024-01-19T17:01:56.893148Z"
    },
    "papermill": {
     "duration": 0.013875,
     "end_time": "2024-01-19T17:01:56.896508",
     "exception": false,
     "start_time": "2024-01-19T17:01:56.882633",
     "status": "completed"
    },
    "tags": []
   },
   "outputs": [
    {
     "name": "stdout",
     "output_type": "stream",
     "text": [
      "Something\n"
     ]
    },
    {
     "data": {
      "text/plain": [
       "4.0"
      ]
     },
     "execution_count": 2,
     "metadata": {},
     "output_type": "execute_result"
    }
   ],
   "source": [
    "x = 1.0\n",
    "x * 2\n",
    "print(\"Something\")\n",
    "x = x * 2\n",
    "x * 2"
   ]
  },
  {
   "cell_type": "markdown",
   "id": "4eba197f",
   "metadata": {
    "papermill": {
     "duration": 0.00292,
     "end_time": "2024-01-19T17:01:56.902539",
     "exception": false,
     "start_time": "2024-01-19T17:01:56.899619",
     "status": "completed"
    },
    "tags": []
   },
   "source": [
    "It would print the something and the last line of code."
   ]
  }
 ],
 "metadata": {
  "kaggle": {
   "accelerator": "none",
   "dataSources": [],
   "dockerImageVersionId": 30635,
   "isGpuEnabled": false,
   "isInternetEnabled": false,
   "language": "python",
   "sourceType": "notebook"
  },
  "kernelspec": {
   "display_name": "Python 3",
   "language": "python",
   "name": "python3"
  },
  "language_info": {
   "codemirror_mode": {
    "name": "ipython",
    "version": 3
   },
   "file_extension": ".py",
   "mimetype": "text/x-python",
   "name": "python",
   "nbconvert_exporter": "python",
   "pygments_lexer": "ipython3",
   "version": "3.10.12"
  },
  "papermill": {
   "default_parameters": {},
   "duration": 3.919687,
   "end_time": "2024-01-19T17:01:57.328036",
   "environment_variables": {},
   "exception": null,
   "input_path": "__notebook__.ipynb",
   "output_path": "__notebook__.ipynb",
   "parameters": {},
   "start_time": "2024-01-19T17:01:53.408349",
   "version": "2.4.0"
  }
 },
 "nbformat": 4,
 "nbformat_minor": 5
}
