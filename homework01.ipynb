{
 "cells": [
  {
   "cell_type": "markdown",
   "id": "361e5c5e",
   "metadata": {
    "papermill": {
     "duration": 0.006171,
     "end_time": "2024-01-31T18:00:12.609974",
     "exception": false,
     "start_time": "2024-01-31T18:00:12.603803",
     "status": "completed"
    },
    "tags": []
   },
   "source": [
    "## Setup"
   ]
  },
  {
   "cell_type": "code",
   "execution_count": 1,
   "id": "51315a0b",
   "metadata": {
    "execution": {
     "iopub.execute_input": "2024-01-31T18:00:12.622467Z",
     "iopub.status.busy": "2024-01-31T18:00:12.622210Z",
     "iopub.status.idle": "2024-01-31T18:00:16.300594Z",
     "shell.execute_reply": "2024-01-31T18:00:16.299646Z"
    },
    "papermill": {
     "duration": 3.687129,
     "end_time": "2024-01-31T18:00:16.302958",
     "exception": false,
     "start_time": "2024-01-31T18:00:12.615829",
     "status": "completed"
    },
    "tags": []
   },
   "outputs": [
    {
     "name": "stdout",
     "output_type": "stream",
     "text": [
      "keras                                    2.13.1\r\n",
      "keras-core                               0.1.7\r\n",
      "keras-cv                                 0.8.1\r\n",
      "keras-nlp                                0.7.0\r\n",
      "keras-tuner                              1.3.5\r\n"
     ]
    }
   ],
   "source": [
    "# Check versions of Keras and Tensorflow\n",
    "!pip list | egrep 'keras|tensorflow$'"
   ]
  },
  {
   "cell_type": "code",
   "execution_count": 2,
   "id": "d0dd4230",
   "metadata": {
    "execution": {
     "iopub.execute_input": "2024-01-31T18:00:16.319000Z",
     "iopub.status.busy": "2024-01-31T18:00:16.317867Z",
     "iopub.status.idle": "2024-01-31T18:00:33.523656Z",
     "shell.execute_reply": "2024-01-31T18:00:33.522632Z"
    },
    "papermill": {
     "duration": 17.216632,
     "end_time": "2024-01-31T18:00:33.525911",
     "exception": false,
     "start_time": "2024-01-31T18:00:16.309279",
     "status": "completed"
    },
    "tags": []
   },
   "outputs": [
    {
     "name": "stderr",
     "output_type": "stream",
     "text": [
      "/opt/conda/lib/python3.10/site-packages/scipy/__init__.py:146: UserWarning: A NumPy version >=1.16.5 and <1.23.0 is required for this version of SciPy (detected version 1.24.3\n",
      "  warnings.warn(f\"A NumPy version >={np_minversion} and <{np_maxversion}\"\n"
     ]
    },
    {
     "name": "stdout",
     "output_type": "stream",
     "text": [
      "Using TensorFlow backend\n",
      "Keras version: 2.13.1, backend: tensorflow\n",
      "GPUs: 1\n"
     ]
    }
   ],
   "source": [
    "import os\n",
    "# Results are better with the TensorFlow backend; this is probably a bug in Keras 3 but I haven't tracked it down.\n",
    "os.environ[\"KERAS_BACKEND\"] = \"tensorflow\"\n",
    "\n",
    "from IPython.display import display, HTML\n",
    "import io\n",
    "import numpy as np\n",
    "import pandas as pd\n",
    "import matplotlib.pyplot as plt\n",
    "from pathlib import Path\n",
    "import keras\n",
    "import keras_cv\n",
    "import tensorflow as tf\n",
    "import tensorflow_datasets as tfds\n",
    "print(f\"Keras version: {keras.__version__}, backend: {keras.backend.backend()}\")\n",
    "num_gpus = len(tf.config.list_physical_devices('GPU'))\n",
    "print(f\"GPUs: {num_gpus}\")\n",
    "if num_gpus == 0:\n",
    "    display(HTML(\"No GPUs available. Training will be slow. <b>Please enable an accelerator.</b>\"))"
   ]
  },
  {
   "cell_type": "markdown",
   "id": "c78f5093",
   "metadata": {
    "papermill": {
     "duration": 0.005821,
     "end_time": "2024-01-31T18:00:33.538042",
     "exception": false,
     "start_time": "2024-01-31T18:00:33.532221",
     "status": "completed"
    },
    "tags": []
   },
   "source": [
    "## Configure our experiments\n",
    "\n",
    "You'll be invited to change parameters in this code block later; for now just run it as-is."
   ]
  },
  {
   "cell_type": "code",
   "execution_count": 3,
   "id": "a79694ca",
   "metadata": {
    "execution": {
     "iopub.execute_input": "2024-01-31T18:00:33.551417Z",
     "iopub.status.busy": "2024-01-31T18:00:33.550902Z",
     "iopub.status.idle": "2024-01-31T18:00:33.555650Z",
     "shell.execute_reply": "2024-01-31T18:00:33.554863Z"
    },
    "papermill": {
     "duration": 0.013483,
     "end_time": "2024-01-31T18:00:33.557456",
     "exception": false,
     "start_time": "2024-01-31T18:00:33.543973",
     "status": "completed"
    },
    "tags": []
   },
   "outputs": [],
   "source": [
    "class config:\n",
    "    seed = 123\n",
    "    learning_rate = 1e-4\n",
    "    epochs = 50\n",
    "    batch_size = 9\n",
    "    image_size = (256, 256)\n",
    "    model_preset = \"efficientnetv2_b2_imagenet\"\n",
    "    use_zero_init = True"
   ]
  },
  {
   "cell_type": "code",
   "execution_count": 4,
   "id": "642f3538",
   "metadata": {
    "execution": {
     "iopub.execute_input": "2024-01-31T18:00:33.570617Z",
     "iopub.status.busy": "2024-01-31T18:00:33.570150Z",
     "iopub.status.idle": "2024-01-31T18:00:33.574567Z",
     "shell.execute_reply": "2024-01-31T18:00:33.573742Z"
    },
    "papermill": {
     "duration": 0.013093,
     "end_time": "2024-01-31T18:00:33.576507",
     "exception": false,
     "start_time": "2024-01-31T18:00:33.563414",
     "status": "completed"
    },
    "tags": []
   },
   "outputs": [],
   "source": [
    "# Reproducibility\n",
    "# See https://keras.io/examples/keras_recipes/reproducibility_recipes/\n",
    "#\n",
    "# Set a seed so that the results are the same every time this is run.\n",
    "keras.utils.set_random_seed(config.seed)\n",
    "\n",
    "# If using TensorFlow, this will make GPU ops as deterministic as possible,\n",
    "# but it will affect the overall performance, so be mindful of that.\n",
    "tf.config.experimental.enable_op_determinism()"
   ]
  },
  {
   "cell_type": "markdown",
   "id": "f69fd1cd",
   "metadata": {
    "papermill": {
     "duration": 0.005758,
     "end_time": "2024-01-31T18:00:33.588487",
     "exception": false,
     "start_time": "2024-01-31T18:00:33.582729",
     "status": "completed"
    },
    "tags": []
   },
   "source": [
    "### Load the data"
   ]
  },
  {
   "cell_type": "markdown",
   "id": "cbbcbb56",
   "metadata": {
    "papermill": {
     "duration": 0.005874,
     "end_time": "2024-01-31T18:00:33.600317",
     "exception": false,
     "start_time": "2024-01-31T18:00:33.594443",
     "status": "completed"
    },
    "tags": []
   },
   "source": [
    "We'll use a dataset of flower images for this example, but you can later switch this out for another dataset as long as you keep the file-and-folder structure.\n",
    "\n",
    "The details of the code in this section are not important at this time; just run these cells."
   ]
  },
  {
   "cell_type": "code",
   "execution_count": 5,
   "id": "48cbfff0",
   "metadata": {
    "execution": {
     "iopub.execute_input": "2024-01-31T18:00:33.613299Z",
     "iopub.status.busy": "2024-01-31T18:00:33.613016Z",
     "iopub.status.idle": "2024-01-31T18:00:34.141010Z",
     "shell.execute_reply": "2024-01-31T18:00:34.140321Z"
    },
    "papermill": {
     "duration": 0.536557,
     "end_time": "2024-01-31T18:00:34.142829",
     "exception": false,
     "start_time": "2024-01-31T18:00:33.606272",
     "status": "completed"
    },
    "tags": []
   },
   "outputs": [
    {
     "name": "stdout",
     "output_type": "stream",
     "text": [
      "Downloading data from https://students.cs.calvin.edu/~ajm94/CS-375/HW01/letters.zip\n",
      "305468/305468 [==============================] - 0s 1us/step\n"
     ]
    }
   ],
   "source": [
    "path_to_downloaded_file = keras.utils.get_file(\n",
    "    origin=\"https://students.cs.calvin.edu/~ajm94/CS-375/HW01/letters.zip\",\n",
    "    extract=True,\n",
    ")"
   ]
  },
  {
   "cell_type": "markdown",
   "id": "4482cdf5",
   "metadata": {
    "papermill": {
     "duration": 0.006445,
     "end_time": "2024-01-31T18:00:34.156007",
     "exception": false,
     "start_time": "2024-01-31T18:00:34.149562",
     "status": "completed"
    },
    "tags": []
   },
   "source": [
    "Let's see what just got downloaded."
   ]
  },
  {
   "cell_type": "code",
   "execution_count": 6,
   "id": "6835be13",
   "metadata": {
    "execution": {
     "iopub.execute_input": "2024-01-31T18:00:34.171036Z",
     "iopub.status.busy": "2024-01-31T18:00:34.170749Z",
     "iopub.status.idle": "2024-01-31T18:00:35.125882Z",
     "shell.execute_reply": "2024-01-31T18:00:35.124930Z"
    },
    "papermill": {
     "duration": 0.965557,
     "end_time": "2024-01-31T18:00:35.128104",
     "exception": false,
     "start_time": "2024-01-31T18:00:34.162547",
     "status": "completed"
    },
    "tags": []
   },
   "outputs": [
    {
     "name": "stdout",
     "output_type": "stream",
     "text": [
      "A  B  C\r\n"
     ]
    }
   ],
   "source": [
    "data_path = Path(path_to_downloaded_file).parent / 'letters'\n",
    "!ls {data_path}"
   ]
  },
  {
   "cell_type": "markdown",
   "id": "2e125691",
   "metadata": {
    "papermill": {
     "duration": 0.006441,
     "end_time": "2024-01-31T18:00:35.141364",
     "exception": false,
     "start_time": "2024-01-31T18:00:35.134923",
     "status": "completed"
    },
    "tags": []
   },
   "source": [
    "We'll use a Keras helper function to load the data.\n",
    "\n",
    "Docs: https://keras.io/api/data_loading/image/#imagedatasetfromdirectory-function"
   ]
  },
  {
   "cell_type": "code",
   "execution_count": 7,
   "id": "45b66904",
   "metadata": {
    "execution": {
     "iopub.execute_input": "2024-01-31T18:00:35.155950Z",
     "iopub.status.busy": "2024-01-31T18:00:35.155654Z",
     "iopub.status.idle": "2024-01-31T18:00:35.783401Z",
     "shell.execute_reply": "2024-01-31T18:00:35.782640Z"
    },
    "papermill": {
     "duration": 0.637911,
     "end_time": "2024-01-31T18:00:35.785805",
     "exception": false,
     "start_time": "2024-01-31T18:00:35.147894",
     "status": "completed"
    },
    "tags": []
   },
   "outputs": [
    {
     "name": "stdout",
     "output_type": "stream",
     "text": [
      "Found 100 files belonging to 3 classes.\n",
      "Using 80 files for training.\n",
      "Using 20 files for validation.\n"
     ]
    }
   ],
   "source": [
    "# Define which classes we want to use, in what order.\n",
    "class_names = ['A', 'B', 'C']\n",
    "\n",
    "# Create training and validation datasets\n",
    "train_dataset, val_dataset = keras.utils.image_dataset_from_directory(\n",
    "    data_path,\n",
    "    validation_split=0.2,\n",
    "    labels='inferred',\n",
    "    class_names=class_names,\n",
    "    label_mode='int',\n",
    "    batch_size=config.batch_size,\n",
    "    image_size=config.image_size,\n",
    "    shuffle=True,\n",
    "    seed=128,\n",
    "    subset='both',\n",
    "    crop_to_aspect_ratio=True   \n",
    ")"
   ]
  },
  {
   "cell_type": "markdown",
   "id": "f6a0c68b",
   "metadata": {
    "papermill": {
     "duration": 0.006886,
     "end_time": "2024-01-31T18:00:35.800575",
     "exception": false,
     "start_time": "2024-01-31T18:00:35.793689",
     "status": "completed"
    },
    "tags": []
   },
   "source": [
    "Let's show some example images."
   ]
  },
  {
   "cell_type": "code",
   "execution_count": 8,
   "id": "7f1fb209",
   "metadata": {
    "execution": {
     "iopub.execute_input": "2024-01-31T18:00:35.815333Z",
     "iopub.status.busy": "2024-01-31T18:00:35.815040Z",
     "iopub.status.idle": "2024-01-31T18:00:36.920760Z",
     "shell.execute_reply": "2024-01-31T18:00:36.919920Z"
    },
    "papermill": {
     "duration": 1.115586,
     "end_time": "2024-01-31T18:00:36.922866",
     "exception": false,
     "start_time": "2024-01-31T18:00:35.807280",
     "status": "completed"
    },
    "tags": []
   },
   "outputs": [
    {
     "data": {
      "image/png": "[encoded data removed]",
      "text/plain": [
       "<Figure size 1000x1000 with 9 Axes>"
      ]
     },
     "metadata": {},
     "output_type": "display_data"
    }
   ],
   "source": [
    "[[example_images, example_labels]] = train_dataset.take(1)\n",
    "fig, axs = plt.subplots(3, 3, figsize=(10, 10))\n",
    "for i, ax in enumerate(axs.flatten()):\n",
    "    ax.imshow(np.array(example_images[i]).astype('uint8'))\n",
    "    label = example_labels[i]\n",
    "    ax.set(title=f\"{label} ({class_names[label]})\")\n",
    "    ax.axis('off')\n",
    "# Alternative approach (doesn't show labels)\n",
    "# keras_cv.visualization.plot_image_gallery(example_images, value_range=(0, 255))"
   ]
  },
  {
   "cell_type": "markdown",
   "id": "a2da5504",
   "metadata": {
    "papermill": {
     "duration": 0.007647,
     "end_time": "2024-01-31T18:00:36.938363",
     "exception": false,
     "start_time": "2024-01-31T18:00:36.930716",
     "status": "completed"
    },
    "tags": []
   },
   "source": [
    "### Train a model\n",
    "\n",
    "We'll unpack this code over the next several weeks. For now, pay attention to the progress bar that will (eventually) show on the last line of the output."
   ]
  },
  {
   "cell_type": "code",
   "execution_count": 9,
   "id": "ee366b69",
   "metadata": {
    "execution": {
     "iopub.execute_input": "2024-01-31T18:00:36.955037Z",
     "iopub.status.busy": "2024-01-31T18:00:36.954471Z",
     "iopub.status.idle": "2024-01-31T18:02:29.053705Z",
     "shell.execute_reply": "2024-01-31T18:02:29.052888Z"
    },
    "papermill": {
     "duration": 112.109829,
     "end_time": "2024-01-31T18:02:29.055721",
     "exception": false,
     "start_time": "2024-01-31T18:00:36.945892",
     "status": "completed"
    },
    "tags": []
   },
   "outputs": [
    {
     "name": "stderr",
     "output_type": "stream",
     "text": [
      "Attaching 'config.json' from model 'keras/efficientnetv2/keras/efficientnetv2_b2_imagenet/2' to your Kaggle notebook...\n",
      "Attaching 'config.json' from model 'keras/efficientnetv2/keras/efficientnetv2_b2_imagenet/2' to your Kaggle notebook...\n",
      "Attaching 'model.weights.h5' from model 'keras/efficientnetv2/keras/efficientnetv2_b2_imagenet/2' to your Kaggle notebook...\n",
      "/opt/conda/lib/python3.10/site-packages/keras_cv/src/models/backbones/backbone.py:44: UserWarning: `Model.state_updates` will be removed in a future version. This property should not be used in TensorFlow 2.0, as `updates` are applied automatically.\n",
      "  return id(getattr(self, attr)) not in self._functional_layer_ids\n",
      "/opt/conda/lib/python3.10/site-packages/keras_cv/src/models/backbones/backbone.py:44: UserWarning: `layer.updates` will be removed in a future version. This property should not be used in TensorFlow 2.0, as `updates` are applied automatically.\n",
      "  return id(getattr(self, attr)) not in self._functional_layer_ids\n"
     ]
    },
    {
     "name": "stdout",
     "output_type": "stream",
     "text": [
      "Model: \"image_classifier\"\n",
      "____________________________________________________________________________\n",
      " Layer (type)                Output Shape              Param #   Trainable  \n",
      "============================================================================\n",
      " input_1 (InputLayer)        [(None, None, None, 3)]   0         Y          \n",
      "                                                                            \n",
      " efficient_net_v2b2_backbon  (None, None, None, 1408   8769374   Y          \n",
      " e (EfficientNetV2Backbone)  )                                              \n",
      "                                                                            \n",
      " avg_pool (GlobalAveragePoo  (None, 1408)              0         Y          \n",
      " ling2D)                                                                    \n",
      "                                                                            \n",
      " predictions (Dense)         (None, 3)                 4227      Y          \n",
      "                                                                            \n",
      "============================================================================\n",
      "Total params: 8773601 (33.47 MB)\n",
      "Trainable params: 8691313 (33.15 MB)\n",
      "Non-trainable params: 82288 (321.44 KB)\n",
      "____________________________________________________________________________\n",
      "Epoch 1/50\n"
     ]
    },
    {
     "name": "stderr",
     "output_type": "stream",
     "text": [
      "2024-01-31 18:01:07.322605: E tensorflow/core/grappler/optimizers/meta_optimizer.cc:954] layout failed: INVALID_ARGUMENT: Size of values 0 does not match size of permutation 4 @ fanin shape inimage_classifier/efficient_net_v2b2_backbone/block1b_/block1b_drop/dropout/SelectV2-2-TransposeNHWCToNCHW-LayoutOptimizer\n"
     ]
    },
    {
     "name": "stdout",
     "output_type": "stream",
     "text": [
      "9/9 [==============================] - 61s 397ms/step - loss: 1.0956 - accuracy: 0.4250 - val_loss: 1.0907 - val_accuracy: 0.5000\n",
      "Epoch 2/50\n",
      "9/9 [==============================] - 1s 95ms/step - loss: 1.0773 - accuracy: 0.6500 - val_loss: 1.0695 - val_accuracy: 0.5500\n",
      "Epoch 3/50\n",
      "9/9 [==============================] - 1s 94ms/step - loss: 1.0483 - accuracy: 0.6750 - val_loss: 1.0286 - val_accuracy: 0.5500\n",
      "Epoch 4/50\n",
      "9/9 [==============================] - 1s 93ms/step - loss: 1.0088 - accuracy: 0.7000 - val_loss: 0.9755 - val_accuracy: 0.6500\n",
      "Epoch 5/50\n",
      "9/9 [==============================] - 1s 93ms/step - loss: 0.9190 - accuracy: 0.8625 - val_loss: 0.8975 - val_accuracy: 0.8500\n",
      "Epoch 6/50\n",
      "9/9 [==============================] - 1s 92ms/step - loss: 0.8027 - accuracy: 0.9250 - val_loss: 0.8130 - val_accuracy: 0.8500\n",
      "Epoch 7/50\n",
      "9/9 [==============================] - 1s 92ms/step - loss: 0.6571 - accuracy: 0.9750 - val_loss: 0.6547 - val_accuracy: 0.9000\n",
      "Epoch 8/50\n",
      "9/9 [==============================] - 1s 93ms/step - loss: 0.5057 - accuracy: 0.9750 - val_loss: 0.4893 - val_accuracy: 0.9500\n",
      "Epoch 9/50\n",
      "9/9 [==============================] - 1s 93ms/step - loss: 0.3612 - accuracy: 0.9500 - val_loss: 0.3576 - val_accuracy: 0.9500\n",
      "Epoch 10/50\n",
      "9/9 [==============================] - 1s 92ms/step - loss: 0.3147 - accuracy: 0.9750 - val_loss: 0.3833 - val_accuracy: 0.9500\n",
      "Epoch 11/50\n",
      "9/9 [==============================] - 1s 92ms/step - loss: 0.3572 - accuracy: 0.9375 - val_loss: 0.2004 - val_accuracy: 1.0000\n",
      "Epoch 12/50\n",
      "9/9 [==============================] - 1s 93ms/step - loss: 0.2573 - accuracy: 0.9625 - val_loss: 0.1732 - val_accuracy: 0.9500\n",
      "Epoch 13/50\n",
      "9/9 [==============================] - 1s 95ms/step - loss: 0.1716 - accuracy: 0.9750 - val_loss: 0.1514 - val_accuracy: 1.0000\n",
      "Epoch 14/50\n",
      "9/9 [==============================] - 1s 93ms/step - loss: 0.1271 - accuracy: 1.0000 - val_loss: 0.1338 - val_accuracy: 1.0000\n",
      "Epoch 15/50\n",
      "9/9 [==============================] - 1s 92ms/step - loss: 0.1553 - accuracy: 0.9875 - val_loss: 0.1442 - val_accuracy: 0.9500\n",
      "Epoch 16/50\n",
      "9/9 [==============================] - 1s 93ms/step - loss: 0.1192 - accuracy: 0.9750 - val_loss: 0.1056 - val_accuracy: 1.0000\n",
      "Epoch 17/50\n",
      "9/9 [==============================] - 1s 92ms/step - loss: 0.0801 - accuracy: 1.0000 - val_loss: 0.0975 - val_accuracy: 1.0000\n",
      "Epoch 18/50\n",
      "9/9 [==============================] - 1s 92ms/step - loss: 0.1161 - accuracy: 0.9625 - val_loss: 0.1186 - val_accuracy: 0.9500\n",
      "Epoch 19/50\n",
      "9/9 [==============================] - 1s 93ms/step - loss: 0.0945 - accuracy: 0.9875 - val_loss: 0.1014 - val_accuracy: 1.0000\n",
      "Epoch 20/50\n",
      "9/9 [==============================] - 1s 94ms/step - loss: 0.0804 - accuracy: 0.9875 - val_loss: 0.0886 - val_accuracy: 0.9500\n",
      "Epoch 21/50\n",
      "9/9 [==============================] - 1s 93ms/step - loss: 0.0622 - accuracy: 1.0000 - val_loss: 0.0909 - val_accuracy: 0.9500\n",
      "Epoch 22/50\n",
      "9/9 [==============================] - 1s 92ms/step - loss: 0.0605 - accuracy: 1.0000 - val_loss: 0.0882 - val_accuracy: 0.9500\n",
      "Epoch 23/50\n",
      "9/9 [==============================] - 1s 92ms/step - loss: 0.0679 - accuracy: 0.9875 - val_loss: 0.0834 - val_accuracy: 0.9500\n",
      "Epoch 24/50\n",
      "9/9 [==============================] - 1s 92ms/step - loss: 0.0396 - accuracy: 1.0000 - val_loss: 0.0871 - val_accuracy: 0.9500\n",
      "Epoch 25/50\n",
      "9/9 [==============================] - 1s 95ms/step - loss: 0.0972 - accuracy: 0.9750 - val_loss: 0.0904 - val_accuracy: 0.9500\n",
      "Epoch 26/50\n",
      "9/9 [==============================] - 1s 93ms/step - loss: 0.0315 - accuracy: 1.0000 - val_loss: 0.0795 - val_accuracy: 0.9500\n",
      "Epoch 27/50\n",
      "9/9 [==============================] - 1s 92ms/step - loss: 0.0765 - accuracy: 0.9750 - val_loss: 0.1009 - val_accuracy: 0.9500\n",
      "Epoch 28/50\n",
      "9/9 [==============================] - 1s 94ms/step - loss: 0.0869 - accuracy: 0.9750 - val_loss: 0.0475 - val_accuracy: 1.0000\n",
      "Epoch 29/50\n",
      "9/9 [==============================] - 1s 93ms/step - loss: 0.0358 - accuracy: 1.0000 - val_loss: 0.0461 - val_accuracy: 1.0000\n",
      "Epoch 30/50\n",
      "9/9 [==============================] - 1s 92ms/step - loss: 0.0799 - accuracy: 0.9750 - val_loss: 0.0376 - val_accuracy: 1.0000\n",
      "Epoch 31/50\n",
      "9/9 [==============================] - 1s 93ms/step - loss: 0.0603 - accuracy: 0.9875 - val_loss: 0.0559 - val_accuracy: 1.0000\n",
      "Epoch 32/50\n",
      "9/9 [==============================] - 1s 93ms/step - loss: 0.0319 - accuracy: 1.0000 - val_loss: 0.0385 - val_accuracy: 1.0000\n",
      "Epoch 33/50\n",
      "9/9 [==============================] - 1s 99ms/step - loss: 0.0182 - accuracy: 1.0000 - val_loss: 0.0428 - val_accuracy: 1.0000\n",
      "Epoch 34/50\n",
      "9/9 [==============================] - 1s 93ms/step - loss: 0.0224 - accuracy: 1.0000 - val_loss: 0.0413 - val_accuracy: 1.0000\n",
      "Epoch 35/50\n",
      "9/9 [==============================] - 1s 92ms/step - loss: 0.0198 - accuracy: 1.0000 - val_loss: 0.0477 - val_accuracy: 1.0000\n",
      "Epoch 36/50\n",
      "9/9 [==============================] - 1s 94ms/step - loss: 0.0152 - accuracy: 1.0000 - val_loss: 0.0461 - val_accuracy: 1.0000\n",
      "Epoch 37/50\n",
      "9/9 [==============================] - 1s 92ms/step - loss: 0.0173 - accuracy: 1.0000 - val_loss: 0.0375 - val_accuracy: 1.0000\n",
      "Epoch 38/50\n",
      "9/9 [==============================] - 1s 93ms/step - loss: 0.0249 - accuracy: 1.0000 - val_loss: 0.0368 - val_accuracy: 1.0000\n",
      "Epoch 39/50\n",
      "9/9 [==============================] - 1s 93ms/step - loss: 0.0199 - accuracy: 1.0000 - val_loss: 0.0325 - val_accuracy: 1.0000\n",
      "Epoch 40/50\n",
      "9/9 [==============================] - 1s 93ms/step - loss: 0.0443 - accuracy: 0.9875 - val_loss: 0.0318 - val_accuracy: 1.0000\n",
      "Epoch 41/50\n",
      "9/9 [==============================] - 1s 92ms/step - loss: 0.0159 - accuracy: 1.0000 - val_loss: 0.0334 - val_accuracy: 1.0000\n",
      "Epoch 42/50\n",
      "9/9 [==============================] - 1s 91ms/step - loss: 0.0162 - accuracy: 1.0000 - val_loss: 0.0349 - val_accuracy: 1.0000\n",
      "Epoch 43/50\n",
      "9/9 [==============================] - 1s 92ms/step - loss: 0.0153 - accuracy: 1.0000 - val_loss: 0.0391 - val_accuracy: 1.0000\n",
      "Epoch 44/50\n",
      "9/9 [==============================] - 1s 92ms/step - loss: 0.0221 - accuracy: 1.0000 - val_loss: 0.0437 - val_accuracy: 1.0000\n",
      "Epoch 45/50\n",
      "9/9 [==============================] - 1s 93ms/step - loss: 0.0415 - accuracy: 0.9875 - val_loss: 0.0383 - val_accuracy: 1.0000\n",
      "Epoch 46/50\n",
      "9/9 [==============================] - 1s 93ms/step - loss: 0.0072 - accuracy: 1.0000 - val_loss: 0.0388 - val_accuracy: 1.0000\n",
      "Epoch 47/50\n",
      "9/9 [==============================] - 1s 93ms/step - loss: 0.0105 - accuracy: 1.0000 - val_loss: 0.0420 - val_accuracy: 1.0000\n",
      "Epoch 48/50\n",
      "9/9 [==============================] - 1s 92ms/step - loss: 0.0243 - accuracy: 1.0000 - val_loss: 0.0333 - val_accuracy: 1.0000\n",
      "Epoch 49/50\n",
      "9/9 [==============================] - 1s 92ms/step - loss: 0.0264 - accuracy: 0.9875 - val_loss: 0.0188 - val_accuracy: 1.0000\n",
      "Epoch 50/50\n",
      "9/9 [==============================] - 1s 91ms/step - loss: 0.0478 - accuracy: 0.9875 - val_loss: 0.0214 - val_accuracy: 1.0000\n"
     ]
    }
   ],
   "source": [
    "# Create a model using a pretrained backbone\n",
    "# See https://keras.io/api/keras_cv/models/tasks/image_classifier/ for options\n",
    "model = keras_cv.models.ImageClassifier.from_preset(\n",
    "    config.model_preset,\n",
    "    num_classes=len(class_names))\n",
    "\n",
    "# Zero the output-layer weights (they were randomly initialized, which adds noise to gradients when fine-tuning)\n",
    "# I was reminded of this by https://twitter.com/wightmanr/status/1742570388016758822\n",
    "if config.use_zero_init:\n",
    "    output_layer = model.layers[-1]\n",
    "    output_layer.set_weights([w * 0 for w in output_layer.weights])\n",
    "\n",
    "# Set up the model for training\n",
    "model.compile(\n",
    "    loss='sparse_categorical_crossentropy',\n",
    "    optimizer=keras.optimizers.Adam(learning_rate=config.learning_rate),\n",
    "    metrics=['accuracy']\n",
    ")\n",
    "model.summary(show_trainable=True)\n",
    "\n",
    "# Train the model. (Note: this may show some warnings, and it may stop without showing\n",
    "# progress for up to a minute while it translates the model to run on the GPU.)\n",
    "history = model.fit(\n",
    "    train_dataset,\n",
    "    validation_data=val_dataset,\n",
    "    epochs=config.epochs\n",
    ")"
   ]
  },
  {
   "cell_type": "markdown",
   "id": "bf50b0e6",
   "metadata": {
    "papermill": {
     "duration": 0.051098,
     "end_time": "2024-01-31T18:02:29.158514",
     "exception": false,
     "start_time": "2024-01-31T18:02:29.107416",
     "status": "completed"
    },
    "tags": []
   },
   "source": [
    "### Make some predictions"
   ]
  },
  {
   "cell_type": "code",
   "execution_count": 10,
   "id": "15c79424",
   "metadata": {
    "execution": {
     "iopub.execute_input": "2024-01-31T18:02:29.303891Z",
     "iopub.status.busy": "2024-01-31T18:02:29.303508Z",
     "iopub.status.idle": "2024-01-31T18:02:29.388491Z",
     "shell.execute_reply": "2024-01-31T18:02:29.387488Z"
    },
    "papermill": {
     "duration": 0.139768,
     "end_time": "2024-01-31T18:02:29.390553",
     "exception": false,
     "start_time": "2024-01-31T18:02:29.250785",
     "status": "completed"
    },
    "tags": []
   },
   "outputs": [
    {
     "name": "stdout",
     "output_type": "stream",
     "text": [
      "Downloading data from https://c8.alamy.com/comp/2APBC2W/the-letter-a-handwritten-on-a-white-background-2APBC2W.jpg\n",
      "   8192/Unknown - 0s 0us/step"
     ]
    },
    {
     "data": {
      "image/png": "[encoded data removed]",
      "text/plain": [
       "<PIL.Image.Image image mode=RGB size=256x256>"
      ]
     },
     "metadata": {},
     "output_type": "display_data"
    }
   ],
   "source": [
    "# Load a new image\n",
    "image_file = keras.utils.get_file(origin='https://c8.alamy.com/comp/2APBC2W/the-letter-a-handwritten-on-a-white-background-2APBC2W.jpg')\n",
    "image = keras.utils.load_img(image_file, target_size=(256, 256), keep_aspect_ratio=True)\n",
    "display(image)"
   ]
  },
  {
   "cell_type": "code",
   "execution_count": 11,
   "id": "5db314ef",
   "metadata": {
    "execution": {
     "iopub.execute_input": "2024-01-31T18:02:29.495737Z",
     "iopub.status.busy": "2024-01-31T18:02:29.495426Z",
     "iopub.status.idle": "2024-01-31T18:02:31.829400Z",
     "shell.execute_reply": "2024-01-31T18:02:31.828309Z"
    },
    "papermill": {
     "duration": 2.389143,
     "end_time": "2024-01-31T18:02:31.831852",
     "exception": false,
     "start_time": "2024-01-31T18:02:29.442709",
     "status": "completed"
    },
    "tags": []
   },
   "outputs": [
    {
     "name": "stdout",
     "output_type": "stream",
     "text": [
      "1/1 [==============================] - 2s 2s/step\n"
     ]
    },
    {
     "data": {
      "text/html": [
       "<div>\n",
       "<style scoped>\n",
       "    .dataframe tbody tr th:only-of-type {\n",
       "        vertical-align: middle;\n",
       "    }\n",
       "\n",
       "    .dataframe tbody tr th {\n",
       "        vertical-align: top;\n",
       "    }\n",
       "\n",
       "    .dataframe thead th {\n",
       "        text-align: right;\n",
       "    }\n",
       "</style>\n",
       "<table border=\"1\" class=\"dataframe\">\n",
       "  <thead>\n",
       "    <tr style=\"text-align: right;\">\n",
       "      <th></th>\n",
       "      <th>class</th>\n",
       "      <th>prob</th>\n",
       "    </tr>\n",
       "  </thead>\n",
       "  <tbody>\n",
       "    <tr>\n",
       "      <th>0</th>\n",
       "      <td>A</td>\n",
       "      <td>0.971070</td>\n",
       "    </tr>\n",
       "    <tr>\n",
       "      <th>1</th>\n",
       "      <td>B</td>\n",
       "      <td>0.017989</td>\n",
       "    </tr>\n",
       "    <tr>\n",
       "      <th>2</th>\n",
       "      <td>C</td>\n",
       "      <td>0.010941</td>\n",
       "    </tr>\n",
       "  </tbody>\n",
       "</table>\n",
       "</div>"
      ],
      "text/plain": [
       "  class      prob\n",
       "0     A  0.971070\n",
       "1     B  0.017989\n",
       "2     C  0.010941"
      ]
     },
     "execution_count": 11,
     "metadata": {},
     "output_type": "execute_result"
    }
   ],
   "source": [
    "probabilities = model.predict(np.array(image)[np.newaxis, ...])[0]\n",
    "pd.DataFrame({'class': class_names, 'prob': probabilities}).sort_values('prob', ascending=False)"
   ]
  },
  {
   "cell_type": "markdown",
   "id": "45e480cc",
   "metadata": {
    "papermill": {
     "duration": 0.051859,
     "end_time": "2024-01-31T18:02:31.938367",
     "exception": false,
     "start_time": "2024-01-31T18:02:31.886508",
     "status": "completed"
    },
    "tags": []
   },
   "source": [
    "### Confusion Matrix"
   ]
  },
  {
   "cell_type": "code",
   "execution_count": 12,
   "id": "86113c93",
   "metadata": {
    "execution": {
     "iopub.execute_input": "2024-01-31T18:02:32.043689Z",
     "iopub.status.busy": "2024-01-31T18:02:32.043350Z",
     "iopub.status.idle": "2024-01-31T18:02:35.735409Z",
     "shell.execute_reply": "2024-01-31T18:02:35.734460Z"
    },
    "papermill": {
     "duration": 3.747222,
     "end_time": "2024-01-31T18:02:35.737377",
     "exception": false,
     "start_time": "2024-01-31T18:02:31.990155",
     "status": "completed"
    },
    "tags": []
   },
   "outputs": [
    {
     "name": "stdout",
     "output_type": "stream",
     "text": [
      "3/3 [==============================] - 2s 18ms/step\n"
     ]
    },
    {
     "data": {
      "text/plain": [
       "<sklearn.metrics._plot.confusion_matrix.ConfusionMatrixDisplay at 0x7a6ff1724ee0>"
      ]
     },
     "execution_count": 12,
     "metadata": {},
     "output_type": "execute_result"
    },
    {
     "data": {
      "image/png": "[encoded data removed]",
      "text/plain": [
       "<Figure size 640x480 with 2 Axes>"
      ]
     },
     "metadata": {},
     "output_type": "display_data"
    }
   ],
   "source": [
    "val_predicted_probs = model.predict(val_dataset)\n",
    "val_predictions = np.argmax(val_predicted_probs, axis=1)\n",
    "val_labels = [int(label) for img, label in val_dataset.unbatch()]\n",
    "\n",
    "from sklearn.metrics import ConfusionMatrixDisplay\n",
    "ConfusionMatrixDisplay.from_predictions(val_labels, val_predictions, display_labels=class_names)"
   ]
  },
  {
   "cell_type": "markdown",
   "id": "2d45a2ba",
   "metadata": {
    "papermill": {
     "duration": 0.053409,
     "end_time": "2024-01-31T18:02:35.844296",
     "exception": false,
     "start_time": "2024-01-31T18:02:35.790887",
     "status": "completed"
    },
    "tags": []
   },
   "source": [
    "# Analysis\n",
    "\n",
    "This is a handwritten dataset of the letters 'A', 'B', and 'C', upper and lowercase. I gathered this data using a mouse on [this website](https://codepen.io/kcarnold/full/poZpdqX). There are 45 letter 'A's, 38 letter 'B's, 17 letter 'C's.\n",
    "\n",
    "20% of the data is in the validation set. While the rest is in the training set.\n",
    "\n",
    "The classifier is fairly accurate, always getting into the high 90s, for the validation set. It is the worst at classifing the letter 'c'. This is probably caused by the letter c being significantly the least represented in my dataset. \n",
    "\n",
    "It did not make any mistakes.\n",
    "\n",
    "I think that these things are caused by the lack of the letter 'c's representation in the training dataset and the overrepresentation of the letter 'a' in the dataset.\n",
    "\n",
    "I think that the likelihood is pretty high because I had asked multiple different people to write down letters to try and get a more diverse dataset. I would have to guess that other people's datasets would have an accuracy of roughly 85% accuracy on my model with the letter 'c' being the weakest link in the chain.\n",
    "\n",
    "I had to choose how many of each letter that I wanted to use in the training set and how many epochs that I wanted to run. Chaning the number of images in each category can change the accuracy on each data and the epoch change can increase or decrease the accuracy and the training time. "
   ]
  }
 ],
 "metadata": {
  "kaggle": {
   "accelerator": "gpu",
   "dataSources": [
    {
     "modelInstanceId": 4592,
     "sourceId": 6080,
     "sourceType": "modelInstanceVersion"
    },
    {
     "modelInstanceId": 4596,
     "sourceId": 6125,
     "sourceType": "modelInstanceVersion"
    },
    {
     "modelInstanceId": 4598,
     "sourceId": 6127,
     "sourceType": "modelInstanceVersion"
    }
   ],
   "dockerImageVersionId": 30636,
   "isGpuEnabled": true,
   "isInternetEnabled": true,
   "language": "python",
   "sourceType": "notebook"
  },
  "kernelspec": {
   "display_name": "Python 3",
   "language": "python",
   "name": "python3"
  },
  "language_info": {
   "codemirror_mode": {
    "name": "ipython",
    "version": 3
   },
   "file_extension": ".py",
   "mimetype": "text/x-python",
   "name": "python",
   "nbconvert_exporter": "python",
   "pygments_lexer": "ipython3",
   "version": "3.10.12"
  },
  "papermill": {
   "default_parameters": {},
   "duration": 149.602926,
   "end_time": "2024-01-31T18:02:38.888150",
   "environment_variables": {},
   "exception": null,
   "input_path": "__notebook__.ipynb",
   "output_path": "__notebook__.ipynb",
   "parameters": {},
   "start_time": "2024-01-31T18:00:09.285224",
   "version": "2.4.0"
  }
 },
 "nbformat": 4,
 "nbformat_minor": 5
}
